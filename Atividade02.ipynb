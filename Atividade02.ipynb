{
  "nbformat": 4,
  "nbformat_minor": 0,
  "metadata": {
    "colab": {
      "name": "Copy of Cópia de Atividade02.ipynb",
      "provenance": [],
      "collapsed_sections": [],
      "include_colab_link": true
    },
    "kernelspec": {
      "name": "python3",
      "display_name": "Python 3"
    },
    "language_info": {
      "name": "python"
    }
  },
  "cells": [
    {
      "cell_type": "markdown",
      "metadata": {
        "id": "view-in-github",
        "colab_type": "text"
      },
      "source": [
        "<a href=\"https://colab.research.google.com/github/ashouy/Aprendizado-de-Maquina/blob/main/Atividade02.ipynb\" target=\"_parent\"><img src=\"https://colab.research.google.com/assets/colab-badge.svg\" alt=\"Open In Colab\"/></a>"
      ]
    },
    {
      "cell_type": "markdown",
      "metadata": {
        "id": "Zle-Upda6yrO"
      },
      "source": [
        "# Base para predição do custo de uma consulta médica\n",
        "\n",
        "> ## Metadata\n",
        "* O valor da consulta no final está em rúpia indiana IRN"
      ]
    },
    {
      "cell_type": "markdown",
      "metadata": {
        "id": "tWqVFdc_6_Mm"
      },
      "source": [
        "### **Apresentação da base**"
      ]
    },
    {
      "cell_type": "code",
      "metadata": {
        "colab": {
          "base_uri": "https://localhost:8080/",
          "height": 414
        },
        "id": "0VgGNajB528d",
        "outputId": "bff7ede8-c79e-439e-f5b2-082d8809f89f"
      },
      "source": [
        "import pandas as pd\n",
        "\n",
        "consultas = pd.read_excel('https://github.com/ashouy/Aprendizado-de-Maquina/blob/main/bases/consultation_fee/train.xlsx?raw=true')\n",
        "consultas"
      ],
      "execution_count": 30,
      "outputs": [
        {
          "output_type": "execute_result",
          "data": {
            "text/html": [
              "<div>\n",
              "<style scoped>\n",
              "    .dataframe tbody tr th:only-of-type {\n",
              "        vertical-align: middle;\n",
              "    }\n",
              "\n",
              "    .dataframe tbody tr th {\n",
              "        vertical-align: top;\n",
              "    }\n",
              "\n",
              "    .dataframe thead th {\n",
              "        text-align: right;\n",
              "    }\n",
              "</style>\n",
              "<table border=\"1\" class=\"dataframe\">\n",
              "  <thead>\n",
              "    <tr style=\"text-align: right;\">\n",
              "      <th></th>\n",
              "      <th>Qualification</th>\n",
              "      <th>Experience</th>\n",
              "      <th>Rating</th>\n",
              "      <th>Place</th>\n",
              "      <th>Profile</th>\n",
              "      <th>Miscellaneous_Info</th>\n",
              "      <th>Fees</th>\n",
              "    </tr>\n",
              "  </thead>\n",
              "  <tbody>\n",
              "    <tr>\n",
              "      <th>0</th>\n",
              "      <td>BHMS, MD - Homeopathy</td>\n",
              "      <td>24 years experience</td>\n",
              "      <td>100%</td>\n",
              "      <td>Kakkanad, Ernakulam</td>\n",
              "      <td>Homeopath</td>\n",
              "      <td>100% 16 Feedback Kakkanad, Ernakulam</td>\n",
              "      <td>100</td>\n",
              "    </tr>\n",
              "    <tr>\n",
              "      <th>1</th>\n",
              "      <td>BAMS, MD - Ayurveda Medicine</td>\n",
              "      <td>12 years experience</td>\n",
              "      <td>98%</td>\n",
              "      <td>Whitefield, Bangalore</td>\n",
              "      <td>Ayurveda</td>\n",
              "      <td>98% 76 Feedback Whitefield, Bangalore</td>\n",
              "      <td>350</td>\n",
              "    </tr>\n",
              "    <tr>\n",
              "      <th>2</th>\n",
              "      <td>MBBS, MS - Otorhinolaryngology</td>\n",
              "      <td>9 years experience</td>\n",
              "      <td>NaN</td>\n",
              "      <td>Mathikere - BEL, Bangalore</td>\n",
              "      <td>ENT Specialist</td>\n",
              "      <td>NaN</td>\n",
              "      <td>300</td>\n",
              "    </tr>\n",
              "    <tr>\n",
              "      <th>3</th>\n",
              "      <td>BSc - Zoology, BAMS</td>\n",
              "      <td>12 years experience</td>\n",
              "      <td>NaN</td>\n",
              "      <td>Bannerghatta Road, Bangalore</td>\n",
              "      <td>Ayurveda</td>\n",
              "      <td>Bannerghatta Road, Bangalore ₹250 Available on...</td>\n",
              "      <td>250</td>\n",
              "    </tr>\n",
              "    <tr>\n",
              "      <th>4</th>\n",
              "      <td>BAMS</td>\n",
              "      <td>20 years experience</td>\n",
              "      <td>100%</td>\n",
              "      <td>Keelkattalai, Chennai</td>\n",
              "      <td>Ayurveda</td>\n",
              "      <td>100% 4 Feedback Keelkattalai, Chennai</td>\n",
              "      <td>250</td>\n",
              "    </tr>\n",
              "    <tr>\n",
              "      <th>...</th>\n",
              "      <td>...</td>\n",
              "      <td>...</td>\n",
              "      <td>...</td>\n",
              "      <td>...</td>\n",
              "      <td>...</td>\n",
              "      <td>...</td>\n",
              "      <td>...</td>\n",
              "    </tr>\n",
              "    <tr>\n",
              "      <th>5956</th>\n",
              "      <td>MBBS, MS - ENT</td>\n",
              "      <td>19 years experience</td>\n",
              "      <td>98%</td>\n",
              "      <td>Basavanagudi, Bangalore</td>\n",
              "      <td>ENT Specialist</td>\n",
              "      <td>98% 45 Feedback Basavanagudi, Bangalore</td>\n",
              "      <td>300</td>\n",
              "    </tr>\n",
              "    <tr>\n",
              "      <th>5957</th>\n",
              "      <td>MBBS</td>\n",
              "      <td>33 years experience</td>\n",
              "      <td>NaN</td>\n",
              "      <td>Nungambakkam, Chennai</td>\n",
              "      <td>General Medicine</td>\n",
              "      <td>NaN</td>\n",
              "      <td>100</td>\n",
              "    </tr>\n",
              "    <tr>\n",
              "      <th>5958</th>\n",
              "      <td>MBBS</td>\n",
              "      <td>41 years experience</td>\n",
              "      <td>97%</td>\n",
              "      <td>Greater Kailash Part 2, Delhi</td>\n",
              "      <td>General Medicine</td>\n",
              "      <td>97% 11 Feedback Greater Kailash Part 2, Delhi</td>\n",
              "      <td>600</td>\n",
              "    </tr>\n",
              "    <tr>\n",
              "      <th>5959</th>\n",
              "      <td>MBBS, MD - General Medicine</td>\n",
              "      <td>15 years experience</td>\n",
              "      <td>90%</td>\n",
              "      <td>Vileparle West, Mumbai</td>\n",
              "      <td>General Medicine</td>\n",
              "      <td>General Medical Consultation Viral Fever Treat...</td>\n",
              "      <td>100</td>\n",
              "    </tr>\n",
              "    <tr>\n",
              "      <th>5960</th>\n",
              "      <td>BDS, MDS - Orthodontics</td>\n",
              "      <td>17 years experience</td>\n",
              "      <td>100%</td>\n",
              "      <td>Pitampura, Delhi</td>\n",
              "      <td>Dentist</td>\n",
              "      <td>Acrylic Partial Denture Crowns and Bridges Fix...</td>\n",
              "      <td>200</td>\n",
              "    </tr>\n",
              "  </tbody>\n",
              "</table>\n",
              "<p>5961 rows × 7 columns</p>\n",
              "</div>"
            ],
            "text/plain": [
              "                       Qualification  ... Fees\n",
              "0              BHMS, MD - Homeopathy  ...  100\n",
              "1       BAMS, MD - Ayurveda Medicine  ...  350\n",
              "2     MBBS, MS - Otorhinolaryngology  ...  300\n",
              "3                BSc - Zoology, BAMS  ...  250\n",
              "4                               BAMS  ...  250\n",
              "...                              ...  ...  ...\n",
              "5956                  MBBS, MS - ENT  ...  300\n",
              "5957                            MBBS  ...  100\n",
              "5958                            MBBS  ...  600\n",
              "5959     MBBS, MD - General Medicine  ...  100\n",
              "5960         BDS, MDS - Orthodontics  ...  200\n",
              "\n",
              "[5961 rows x 7 columns]"
            ]
          },
          "metadata": {
            "tags": []
          },
          "execution_count": 30
        }
      ]
    },
    {
      "cell_type": "markdown",
      "metadata": {
        "id": "sadm6R5i7RVU"
      },
      "source": [
        "### **Tratamento**\n"
      ]
    },
    {
      "cell_type": "markdown",
      "metadata": {
        "id": "rcKPQrPP7fe7"
      },
      "source": [
        "#### Seleção de colunas"
      ]
    },
    {
      "cell_type": "markdown",
      "metadata": {
        "id": "UjggzeIh-MWc"
      },
      "source": [
        ">* seleção de colunas"
      ]
    },
    {
      "cell_type": "code",
      "metadata": {
        "colab": {
          "base_uri": "https://localhost:8080/"
        },
        "id": "pjxw1d_g7uxp",
        "outputId": "ade8f6e6-0f42-4e70-cebf-36b235a02f3f"
      },
      "source": [
        "## verificando as colunas que tem valores não definidos\n",
        "hasNan = consultas.isnull().sum()\n",
        "print(hasNan)"
      ],
      "execution_count": 31,
      "outputs": [
        {
          "output_type": "stream",
          "text": [
            "Qualification            0\n",
            "Experience               0\n",
            "Rating                3302\n",
            "Place                   25\n",
            "Profile                  0\n",
            "Miscellaneous_Info    2620\n",
            "Fees                     0\n",
            "dtype: int64\n"
          ],
          "name": "stdout"
        }
      ]
    },
    {
      "cell_type": "code",
      "metadata": {
        "colab": {
          "base_uri": "https://localhost:8080/"
        },
        "id": "AuxjDBkoH0D3",
        "outputId": "68613816-dd82-481f-9cbc-844d73490128"
      },
      "source": [
        "## verificando quantos valores possíveis a coluna \"qualificationn tem\"\n",
        "consultas[\"Qualification\"].describe()"
      ],
      "execution_count": null,
      "outputs": [
        {
          "output_type": "execute_result",
          "data": {
            "text/plain": [
              "count     5961\n",
              "unique    1420\n",
              "top        BDS\n",
              "freq       488\n",
              "Name: Qualification, dtype: object"
            ]
          },
          "metadata": {
            "tags": []
          },
          "execution_count": 74
        }
      ]
    },
    {
      "cell_type": "code",
      "metadata": {
        "colab": {
          "base_uri": "https://localhost:8080/"
        },
        "id": "trmdZZ3eJAP-",
        "outputId": "0cf45b44-e71c-435a-aa6f-e911398fb119"
      },
      "source": [
        "consultas[\"Profile\"].describe()"
      ],
      "execution_count": null,
      "outputs": [
        {
          "output_type": "execute_result",
          "data": {
            "text/plain": [
              "count        5961\n",
              "unique          6\n",
              "top       Dentist\n",
              "freq         1397\n",
              "Name: Profile, dtype: object"
            ]
          },
          "metadata": {
            "tags": []
          },
          "execution_count": 75
        }
      ]
    },
    {
      "cell_type": "markdown",
      "metadata": {
        "id": "71_2sjk__RKe"
      },
      "source": [
        ">* A coluna Misscellaneous_info não apresenta dados constantes, ou que respeitam algum padrão, impossibilitando de realizar alguma conversão para dado numérico, e dificultando a análize\n",
        "\n",
        ">* A coluna \"rating\" tem 3302 dados faltantes, mais da metade do exemplos, não há possibilidade de preencher com médias ou valores fixos como na coluna \"place\", que tem apenas 25 exemplos com valores não definidos\n",
        "\n",
        ">* A coluna \"qualification\" apresenta 1420 possibilidades, podem dizer a mesma coisa, pois existem exemplos que tem a qualificação diferente porém o perfil (\"profile\") igual. Podemos observar acima que a coluna \"Qualification\" tem 1420 valores unicos e a \"Profile\" tem apenas 6.\n",
        "\n",
        ">* Conclusão: serão removidas as coluans \"rating\", \"miscellaneous_Info\" e \"Profile\""
      ]
    },
    {
      "cell_type": "code",
      "metadata": {
        "colab": {
          "base_uri": "https://localhost:8080/",
          "height": 414
        },
        "id": "AGUlk1quDF6G",
        "outputId": "86dc5167-d931-4759-bb7e-1d3fac2f7846"
      },
      "source": [
        "consultas = consultas[[\"Experience\",\t\"Place\", \"Profile\",\t\"Fees\"]]\n",
        "consultas"
      ],
      "execution_count": 32,
      "outputs": [
        {
          "output_type": "execute_result",
          "data": {
            "text/html": [
              "<div>\n",
              "<style scoped>\n",
              "    .dataframe tbody tr th:only-of-type {\n",
              "        vertical-align: middle;\n",
              "    }\n",
              "\n",
              "    .dataframe tbody tr th {\n",
              "        vertical-align: top;\n",
              "    }\n",
              "\n",
              "    .dataframe thead th {\n",
              "        text-align: right;\n",
              "    }\n",
              "</style>\n",
              "<table border=\"1\" class=\"dataframe\">\n",
              "  <thead>\n",
              "    <tr style=\"text-align: right;\">\n",
              "      <th></th>\n",
              "      <th>Experience</th>\n",
              "      <th>Place</th>\n",
              "      <th>Profile</th>\n",
              "      <th>Fees</th>\n",
              "    </tr>\n",
              "  </thead>\n",
              "  <tbody>\n",
              "    <tr>\n",
              "      <th>0</th>\n",
              "      <td>24 years experience</td>\n",
              "      <td>Kakkanad, Ernakulam</td>\n",
              "      <td>Homeopath</td>\n",
              "      <td>100</td>\n",
              "    </tr>\n",
              "    <tr>\n",
              "      <th>1</th>\n",
              "      <td>12 years experience</td>\n",
              "      <td>Whitefield, Bangalore</td>\n",
              "      <td>Ayurveda</td>\n",
              "      <td>350</td>\n",
              "    </tr>\n",
              "    <tr>\n",
              "      <th>2</th>\n",
              "      <td>9 years experience</td>\n",
              "      <td>Mathikere - BEL, Bangalore</td>\n",
              "      <td>ENT Specialist</td>\n",
              "      <td>300</td>\n",
              "    </tr>\n",
              "    <tr>\n",
              "      <th>3</th>\n",
              "      <td>12 years experience</td>\n",
              "      <td>Bannerghatta Road, Bangalore</td>\n",
              "      <td>Ayurveda</td>\n",
              "      <td>250</td>\n",
              "    </tr>\n",
              "    <tr>\n",
              "      <th>4</th>\n",
              "      <td>20 years experience</td>\n",
              "      <td>Keelkattalai, Chennai</td>\n",
              "      <td>Ayurveda</td>\n",
              "      <td>250</td>\n",
              "    </tr>\n",
              "    <tr>\n",
              "      <th>...</th>\n",
              "      <td>...</td>\n",
              "      <td>...</td>\n",
              "      <td>...</td>\n",
              "      <td>...</td>\n",
              "    </tr>\n",
              "    <tr>\n",
              "      <th>5956</th>\n",
              "      <td>19 years experience</td>\n",
              "      <td>Basavanagudi, Bangalore</td>\n",
              "      <td>ENT Specialist</td>\n",
              "      <td>300</td>\n",
              "    </tr>\n",
              "    <tr>\n",
              "      <th>5957</th>\n",
              "      <td>33 years experience</td>\n",
              "      <td>Nungambakkam, Chennai</td>\n",
              "      <td>General Medicine</td>\n",
              "      <td>100</td>\n",
              "    </tr>\n",
              "    <tr>\n",
              "      <th>5958</th>\n",
              "      <td>41 years experience</td>\n",
              "      <td>Greater Kailash Part 2, Delhi</td>\n",
              "      <td>General Medicine</td>\n",
              "      <td>600</td>\n",
              "    </tr>\n",
              "    <tr>\n",
              "      <th>5959</th>\n",
              "      <td>15 years experience</td>\n",
              "      <td>Vileparle West, Mumbai</td>\n",
              "      <td>General Medicine</td>\n",
              "      <td>100</td>\n",
              "    </tr>\n",
              "    <tr>\n",
              "      <th>5960</th>\n",
              "      <td>17 years experience</td>\n",
              "      <td>Pitampura, Delhi</td>\n",
              "      <td>Dentist</td>\n",
              "      <td>200</td>\n",
              "    </tr>\n",
              "  </tbody>\n",
              "</table>\n",
              "<p>5961 rows × 4 columns</p>\n",
              "</div>"
            ],
            "text/plain": [
              "               Experience  ... Fees\n",
              "0     24 years experience  ...  100\n",
              "1     12 years experience  ...  350\n",
              "2      9 years experience  ...  300\n",
              "3     12 years experience  ...  250\n",
              "4     20 years experience  ...  250\n",
              "...                   ...  ...  ...\n",
              "5956  19 years experience  ...  300\n",
              "5957  33 years experience  ...  100\n",
              "5958  41 years experience  ...  600\n",
              "5959  15 years experience  ...  100\n",
              "5960  17 years experience  ...  200\n",
              "\n",
              "[5961 rows x 4 columns]"
            ]
          },
          "metadata": {
            "tags": []
          },
          "execution_count": 32
        }
      ]
    },
    {
      "cell_type": "markdown",
      "metadata": {
        "id": "CbpXn1uAJu3e"
      },
      "source": [
        "### Alterar tipo das colunas"
      ]
    },
    {
      "cell_type": "code",
      "metadata": {
        "colab": {
          "base_uri": "https://localhost:8080/"
        },
        "id": "DGy7Rfi0J2zd",
        "outputId": "aec38dfd-194b-4f12-d892-7d03fc1167a2"
      },
      "source": [
        "#mudar tipo da experiencia\n",
        "exp_column_int = consultas['Experience'].str[:2].astype(int)\n",
        "consultas['Experience'] = exp_column_int\n",
        "consultas[\"Experience\"].unique()"
      ],
      "execution_count": 33,
      "outputs": [
        {
          "output_type": "stream",
          "text": [
            "/usr/local/lib/python3.7/dist-packages/ipykernel_launcher.py:3: SettingWithCopyWarning: \n",
            "A value is trying to be set on a copy of a slice from a DataFrame.\n",
            "Try using .loc[row_indexer,col_indexer] = value instead\n",
            "\n",
            "See the caveats in the documentation: https://pandas.pydata.org/pandas-docs/stable/user_guide/indexing.html#returning-a-view-versus-a-copy\n",
            "  This is separate from the ipykernel package so we can avoid doing imports until\n"
          ],
          "name": "stderr"
        },
        {
          "output_type": "execute_result",
          "data": {
            "text/plain": [
              "array([24, 12,  9, 20,  8, 42, 10, 14, 23,  5,  7, 21, 19, 41, 31, 25, 16,\n",
              "       15, 11, 22, 38,  6, 36, 13, 18, 46, 40, 49, 33,  0, 27, 30, 52, 60,\n",
              "       26, 35, 34, 39, 32, 17, 28, 58,  4, 45, 44,  3, 37, 50, 29, 43, 54,\n",
              "       66,  2, 51, 47, 48, 53, 56, 61, 59, 57, 55, 65, 64])"
            ]
          },
          "metadata": {
            "tags": []
          },
          "execution_count": 33
        }
      ]
    },
    {
      "cell_type": "code",
      "metadata": {
        "colab": {
          "base_uri": "https://localhost:8080/",
          "height": 202
        },
        "id": "EOPMzbg9K_9g",
        "outputId": "28847486-9733-4b5c-c903-8e2731535c8e"
      },
      "source": [
        "consultas_base = consultas\n",
        "consultas_base.head()"
      ],
      "execution_count": 34,
      "outputs": [
        {
          "output_type": "execute_result",
          "data": {
            "text/html": [
              "<div>\n",
              "<style scoped>\n",
              "    .dataframe tbody tr th:only-of-type {\n",
              "        vertical-align: middle;\n",
              "    }\n",
              "\n",
              "    .dataframe tbody tr th {\n",
              "        vertical-align: top;\n",
              "    }\n",
              "\n",
              "    .dataframe thead th {\n",
              "        text-align: right;\n",
              "    }\n",
              "</style>\n",
              "<table border=\"1\" class=\"dataframe\">\n",
              "  <thead>\n",
              "    <tr style=\"text-align: right;\">\n",
              "      <th></th>\n",
              "      <th>Experience</th>\n",
              "      <th>Place</th>\n",
              "      <th>Profile</th>\n",
              "      <th>Fees</th>\n",
              "    </tr>\n",
              "  </thead>\n",
              "  <tbody>\n",
              "    <tr>\n",
              "      <th>0</th>\n",
              "      <td>24</td>\n",
              "      <td>Kakkanad, Ernakulam</td>\n",
              "      <td>Homeopath</td>\n",
              "      <td>100</td>\n",
              "    </tr>\n",
              "    <tr>\n",
              "      <th>1</th>\n",
              "      <td>12</td>\n",
              "      <td>Whitefield, Bangalore</td>\n",
              "      <td>Ayurveda</td>\n",
              "      <td>350</td>\n",
              "    </tr>\n",
              "    <tr>\n",
              "      <th>2</th>\n",
              "      <td>9</td>\n",
              "      <td>Mathikere - BEL, Bangalore</td>\n",
              "      <td>ENT Specialist</td>\n",
              "      <td>300</td>\n",
              "    </tr>\n",
              "    <tr>\n",
              "      <th>3</th>\n",
              "      <td>12</td>\n",
              "      <td>Bannerghatta Road, Bangalore</td>\n",
              "      <td>Ayurveda</td>\n",
              "      <td>250</td>\n",
              "    </tr>\n",
              "    <tr>\n",
              "      <th>4</th>\n",
              "      <td>20</td>\n",
              "      <td>Keelkattalai, Chennai</td>\n",
              "      <td>Ayurveda</td>\n",
              "      <td>250</td>\n",
              "    </tr>\n",
              "  </tbody>\n",
              "</table>\n",
              "</div>"
            ],
            "text/plain": [
              "   Experience                         Place         Profile  Fees\n",
              "0          24           Kakkanad, Ernakulam       Homeopath   100\n",
              "1          12         Whitefield, Bangalore        Ayurveda   350\n",
              "2           9    Mathikere - BEL, Bangalore  ENT Specialist   300\n",
              "3          12  Bannerghatta Road, Bangalore        Ayurveda   250\n",
              "4          20         Keelkattalai, Chennai        Ayurveda   250"
            ]
          },
          "metadata": {
            "tags": []
          },
          "execution_count": 34
        }
      ]
    },
    {
      "cell_type": "code",
      "metadata": {
        "colab": {
          "base_uri": "https://localhost:8080/",
          "height": 414
        },
        "id": "ylnMcjIYLPW9",
        "outputId": "f148a0df-ce66-4778-adc2-eeac569e1248"
      },
      "source": [
        "## mudar tipo do profile\n",
        "\n",
        "profile_types = pd.get_dummies(consultas['Profile'], prefix='spec_')\n",
        "profile_types"
      ],
      "execution_count": 13,
      "outputs": [
        {
          "output_type": "execute_result",
          "data": {
            "text/html": [
              "<div>\n",
              "<style scoped>\n",
              "    .dataframe tbody tr th:only-of-type {\n",
              "        vertical-align: middle;\n",
              "    }\n",
              "\n",
              "    .dataframe tbody tr th {\n",
              "        vertical-align: top;\n",
              "    }\n",
              "\n",
              "    .dataframe thead th {\n",
              "        text-align: right;\n",
              "    }\n",
              "</style>\n",
              "<table border=\"1\" class=\"dataframe\">\n",
              "  <thead>\n",
              "    <tr style=\"text-align: right;\">\n",
              "      <th></th>\n",
              "      <th>spec__Ayurveda</th>\n",
              "      <th>spec__Dentist</th>\n",
              "      <th>spec__Dermatologists</th>\n",
              "      <th>spec__ENT Specialist</th>\n",
              "      <th>spec__General Medicine</th>\n",
              "      <th>spec__Homeopath</th>\n",
              "    </tr>\n",
              "  </thead>\n",
              "  <tbody>\n",
              "    <tr>\n",
              "      <th>0</th>\n",
              "      <td>0</td>\n",
              "      <td>0</td>\n",
              "      <td>0</td>\n",
              "      <td>0</td>\n",
              "      <td>0</td>\n",
              "      <td>1</td>\n",
              "    </tr>\n",
              "    <tr>\n",
              "      <th>1</th>\n",
              "      <td>1</td>\n",
              "      <td>0</td>\n",
              "      <td>0</td>\n",
              "      <td>0</td>\n",
              "      <td>0</td>\n",
              "      <td>0</td>\n",
              "    </tr>\n",
              "    <tr>\n",
              "      <th>2</th>\n",
              "      <td>0</td>\n",
              "      <td>0</td>\n",
              "      <td>0</td>\n",
              "      <td>1</td>\n",
              "      <td>0</td>\n",
              "      <td>0</td>\n",
              "    </tr>\n",
              "    <tr>\n",
              "      <th>3</th>\n",
              "      <td>1</td>\n",
              "      <td>0</td>\n",
              "      <td>0</td>\n",
              "      <td>0</td>\n",
              "      <td>0</td>\n",
              "      <td>0</td>\n",
              "    </tr>\n",
              "    <tr>\n",
              "      <th>4</th>\n",
              "      <td>1</td>\n",
              "      <td>0</td>\n",
              "      <td>0</td>\n",
              "      <td>0</td>\n",
              "      <td>0</td>\n",
              "      <td>0</td>\n",
              "    </tr>\n",
              "    <tr>\n",
              "      <th>...</th>\n",
              "      <td>...</td>\n",
              "      <td>...</td>\n",
              "      <td>...</td>\n",
              "      <td>...</td>\n",
              "      <td>...</td>\n",
              "      <td>...</td>\n",
              "    </tr>\n",
              "    <tr>\n",
              "      <th>5956</th>\n",
              "      <td>0</td>\n",
              "      <td>0</td>\n",
              "      <td>0</td>\n",
              "      <td>1</td>\n",
              "      <td>0</td>\n",
              "      <td>0</td>\n",
              "    </tr>\n",
              "    <tr>\n",
              "      <th>5957</th>\n",
              "      <td>0</td>\n",
              "      <td>0</td>\n",
              "      <td>0</td>\n",
              "      <td>0</td>\n",
              "      <td>1</td>\n",
              "      <td>0</td>\n",
              "    </tr>\n",
              "    <tr>\n",
              "      <th>5958</th>\n",
              "      <td>0</td>\n",
              "      <td>0</td>\n",
              "      <td>0</td>\n",
              "      <td>0</td>\n",
              "      <td>1</td>\n",
              "      <td>0</td>\n",
              "    </tr>\n",
              "    <tr>\n",
              "      <th>5959</th>\n",
              "      <td>0</td>\n",
              "      <td>0</td>\n",
              "      <td>0</td>\n",
              "      <td>0</td>\n",
              "      <td>1</td>\n",
              "      <td>0</td>\n",
              "    </tr>\n",
              "    <tr>\n",
              "      <th>5960</th>\n",
              "      <td>0</td>\n",
              "      <td>1</td>\n",
              "      <td>0</td>\n",
              "      <td>0</td>\n",
              "      <td>0</td>\n",
              "      <td>0</td>\n",
              "    </tr>\n",
              "  </tbody>\n",
              "</table>\n",
              "<p>5961 rows × 6 columns</p>\n",
              "</div>"
            ],
            "text/plain": [
              "      spec__Ayurveda  spec__Dentist  ...  spec__General Medicine  spec__Homeopath\n",
              "0                  0              0  ...                       0                1\n",
              "1                  1              0  ...                       0                0\n",
              "2                  0              0  ...                       0                0\n",
              "3                  1              0  ...                       0                0\n",
              "4                  1              0  ...                       0                0\n",
              "...              ...            ...  ...                     ...              ...\n",
              "5956               0              0  ...                       0                0\n",
              "5957               0              0  ...                       1                0\n",
              "5958               0              0  ...                       1                0\n",
              "5959               0              0  ...                       1                0\n",
              "5960               0              1  ...                       0                0\n",
              "\n",
              "[5961 rows x 6 columns]"
            ]
          },
          "metadata": {
            "tags": []
          },
          "execution_count": 13
        }
      ]
    },
    {
      "cell_type": "code",
      "metadata": {
        "colab": {
          "base_uri": "https://localhost:8080/",
          "height": 202
        },
        "id": "1b-dJCPmLaae",
        "outputId": "f578e9be-d759-4fab-f70f-a8e6bb852e0e"
      },
      "source": [
        "# Juntar profile dummies com dataset\n",
        "consultas = profile_types.join(consultas.drop(columns=[\"Profile\"]))\n",
        "consultas.head()\n",
        "\n"
      ],
      "execution_count": 14,
      "outputs": [
        {
          "output_type": "execute_result",
          "data": {
            "text/html": [
              "<div>\n",
              "<style scoped>\n",
              "    .dataframe tbody tr th:only-of-type {\n",
              "        vertical-align: middle;\n",
              "    }\n",
              "\n",
              "    .dataframe tbody tr th {\n",
              "        vertical-align: top;\n",
              "    }\n",
              "\n",
              "    .dataframe thead th {\n",
              "        text-align: right;\n",
              "    }\n",
              "</style>\n",
              "<table border=\"1\" class=\"dataframe\">\n",
              "  <thead>\n",
              "    <tr style=\"text-align: right;\">\n",
              "      <th></th>\n",
              "      <th>spec__Ayurveda</th>\n",
              "      <th>spec__Dentist</th>\n",
              "      <th>spec__Dermatologists</th>\n",
              "      <th>spec__ENT Specialist</th>\n",
              "      <th>spec__General Medicine</th>\n",
              "      <th>spec__Homeopath</th>\n",
              "      <th>Experience</th>\n",
              "      <th>Place</th>\n",
              "      <th>Fees</th>\n",
              "    </tr>\n",
              "  </thead>\n",
              "  <tbody>\n",
              "    <tr>\n",
              "      <th>0</th>\n",
              "      <td>0</td>\n",
              "      <td>0</td>\n",
              "      <td>0</td>\n",
              "      <td>0</td>\n",
              "      <td>0</td>\n",
              "      <td>1</td>\n",
              "      <td>24</td>\n",
              "      <td>Kakkanad, Ernakulam</td>\n",
              "      <td>100</td>\n",
              "    </tr>\n",
              "    <tr>\n",
              "      <th>1</th>\n",
              "      <td>1</td>\n",
              "      <td>0</td>\n",
              "      <td>0</td>\n",
              "      <td>0</td>\n",
              "      <td>0</td>\n",
              "      <td>0</td>\n",
              "      <td>12</td>\n",
              "      <td>Whitefield, Bangalore</td>\n",
              "      <td>350</td>\n",
              "    </tr>\n",
              "    <tr>\n",
              "      <th>2</th>\n",
              "      <td>0</td>\n",
              "      <td>0</td>\n",
              "      <td>0</td>\n",
              "      <td>1</td>\n",
              "      <td>0</td>\n",
              "      <td>0</td>\n",
              "      <td>9</td>\n",
              "      <td>Mathikere - BEL, Bangalore</td>\n",
              "      <td>300</td>\n",
              "    </tr>\n",
              "    <tr>\n",
              "      <th>3</th>\n",
              "      <td>1</td>\n",
              "      <td>0</td>\n",
              "      <td>0</td>\n",
              "      <td>0</td>\n",
              "      <td>0</td>\n",
              "      <td>0</td>\n",
              "      <td>12</td>\n",
              "      <td>Bannerghatta Road, Bangalore</td>\n",
              "      <td>250</td>\n",
              "    </tr>\n",
              "    <tr>\n",
              "      <th>4</th>\n",
              "      <td>1</td>\n",
              "      <td>0</td>\n",
              "      <td>0</td>\n",
              "      <td>0</td>\n",
              "      <td>0</td>\n",
              "      <td>0</td>\n",
              "      <td>20</td>\n",
              "      <td>Keelkattalai, Chennai</td>\n",
              "      <td>250</td>\n",
              "    </tr>\n",
              "  </tbody>\n",
              "</table>\n",
              "</div>"
            ],
            "text/plain": [
              "   spec__Ayurveda  spec__Dentist  ...                         Place  Fees\n",
              "0               0              0  ...           Kakkanad, Ernakulam   100\n",
              "1               1              0  ...         Whitefield, Bangalore   350\n",
              "2               0              0  ...    Mathikere - BEL, Bangalore   300\n",
              "3               1              0  ...  Bannerghatta Road, Bangalore   250\n",
              "4               1              0  ...         Keelkattalai, Chennai   250\n",
              "\n",
              "[5 rows x 9 columns]"
            ]
          },
          "metadata": {
            "tags": []
          },
          "execution_count": 14
        }
      ]
    },
    {
      "cell_type": "code",
      "metadata": {
        "colab": {
          "base_uri": "https://localhost:8080/",
          "height": 202
        },
        "id": "S3WtpNosOqIC",
        "outputId": "19423f5f-b9e2-44bd-a34b-57dfc933bdf0"
      },
      "source": [
        "\n",
        "consultas_base.head()"
      ],
      "execution_count": 35,
      "outputs": [
        {
          "output_type": "execute_result",
          "data": {
            "text/html": [
              "<div>\n",
              "<style scoped>\n",
              "    .dataframe tbody tr th:only-of-type {\n",
              "        vertical-align: middle;\n",
              "    }\n",
              "\n",
              "    .dataframe tbody tr th {\n",
              "        vertical-align: top;\n",
              "    }\n",
              "\n",
              "    .dataframe thead th {\n",
              "        text-align: right;\n",
              "    }\n",
              "</style>\n",
              "<table border=\"1\" class=\"dataframe\">\n",
              "  <thead>\n",
              "    <tr style=\"text-align: right;\">\n",
              "      <th></th>\n",
              "      <th>Experience</th>\n",
              "      <th>Place</th>\n",
              "      <th>Profile</th>\n",
              "      <th>Fees</th>\n",
              "    </tr>\n",
              "  </thead>\n",
              "  <tbody>\n",
              "    <tr>\n",
              "      <th>0</th>\n",
              "      <td>24</td>\n",
              "      <td>Kakkanad, Ernakulam</td>\n",
              "      <td>Homeopath</td>\n",
              "      <td>100</td>\n",
              "    </tr>\n",
              "    <tr>\n",
              "      <th>1</th>\n",
              "      <td>12</td>\n",
              "      <td>Whitefield, Bangalore</td>\n",
              "      <td>Ayurveda</td>\n",
              "      <td>350</td>\n",
              "    </tr>\n",
              "    <tr>\n",
              "      <th>2</th>\n",
              "      <td>9</td>\n",
              "      <td>Mathikere - BEL, Bangalore</td>\n",
              "      <td>ENT Specialist</td>\n",
              "      <td>300</td>\n",
              "    </tr>\n",
              "    <tr>\n",
              "      <th>3</th>\n",
              "      <td>12</td>\n",
              "      <td>Bannerghatta Road, Bangalore</td>\n",
              "      <td>Ayurveda</td>\n",
              "      <td>250</td>\n",
              "    </tr>\n",
              "    <tr>\n",
              "      <th>4</th>\n",
              "      <td>20</td>\n",
              "      <td>Keelkattalai, Chennai</td>\n",
              "      <td>Ayurveda</td>\n",
              "      <td>250</td>\n",
              "    </tr>\n",
              "  </tbody>\n",
              "</table>\n",
              "</div>"
            ],
            "text/plain": [
              "   Experience                         Place         Profile  Fees\n",
              "0          24           Kakkanad, Ernakulam       Homeopath   100\n",
              "1          12         Whitefield, Bangalore        Ayurveda   350\n",
              "2           9    Mathikere - BEL, Bangalore  ENT Specialist   300\n",
              "3          12  Bannerghatta Road, Bangalore        Ayurveda   250\n",
              "4          20         Keelkattalai, Chennai        Ayurveda   250"
            ]
          },
          "metadata": {
            "tags": []
          },
          "execution_count": 35
        }
      ]
    },
    {
      "cell_type": "code",
      "metadata": {
        "colab": {
          "base_uri": "https://localhost:8080/",
          "height": 202
        },
        "id": "DgihqztlClks",
        "outputId": "62cfff54-308a-43dd-95ce-62ec0ab6cc2d"
      },
      "source": [
        "consultas_aux = consultas_base.drop(columns={'Place'})\n",
        "consultas_aux.head()"
      ],
      "execution_count": 39,
      "outputs": [
        {
          "output_type": "execute_result",
          "data": {
            "text/html": [
              "<div>\n",
              "<style scoped>\n",
              "    .dataframe tbody tr th:only-of-type {\n",
              "        vertical-align: middle;\n",
              "    }\n",
              "\n",
              "    .dataframe tbody tr th {\n",
              "        vertical-align: top;\n",
              "    }\n",
              "\n",
              "    .dataframe thead th {\n",
              "        text-align: right;\n",
              "    }\n",
              "</style>\n",
              "<table border=\"1\" class=\"dataframe\">\n",
              "  <thead>\n",
              "    <tr style=\"text-align: right;\">\n",
              "      <th></th>\n",
              "      <th>Experience</th>\n",
              "      <th>Profile</th>\n",
              "      <th>Fees</th>\n",
              "    </tr>\n",
              "  </thead>\n",
              "  <tbody>\n",
              "    <tr>\n",
              "      <th>0</th>\n",
              "      <td>24</td>\n",
              "      <td>Homeopath</td>\n",
              "      <td>100</td>\n",
              "    </tr>\n",
              "    <tr>\n",
              "      <th>1</th>\n",
              "      <td>12</td>\n",
              "      <td>Ayurveda</td>\n",
              "      <td>350</td>\n",
              "    </tr>\n",
              "    <tr>\n",
              "      <th>2</th>\n",
              "      <td>9</td>\n",
              "      <td>ENT Specialist</td>\n",
              "      <td>300</td>\n",
              "    </tr>\n",
              "    <tr>\n",
              "      <th>3</th>\n",
              "      <td>12</td>\n",
              "      <td>Ayurveda</td>\n",
              "      <td>250</td>\n",
              "    </tr>\n",
              "    <tr>\n",
              "      <th>4</th>\n",
              "      <td>20</td>\n",
              "      <td>Ayurveda</td>\n",
              "      <td>250</td>\n",
              "    </tr>\n",
              "  </tbody>\n",
              "</table>\n",
              "</div>"
            ],
            "text/plain": [
              "   Experience         Profile  Fees\n",
              "0          24       Homeopath   100\n",
              "1          12        Ayurveda   350\n",
              "2           9  ENT Specialist   300\n",
              "3          12        Ayurveda   250\n",
              "4          20        Ayurveda   250"
            ]
          },
          "metadata": {
            "tags": []
          },
          "execution_count": 39
        }
      ]
    },
    {
      "cell_type": "code",
      "metadata": {
        "colab": {
          "base_uri": "https://localhost:8080/",
          "height": 202
        },
        "id": "s0OXhFtvD5qA",
        "outputId": "1c9d90fd-9482-4f3a-ba92-5a3266da7098"
      },
      "source": [
        "new_places = novaColunaPlace.to_frame()\n",
        "new_places.head()"
      ],
      "execution_count": 40,
      "outputs": [
        {
          "output_type": "execute_result",
          "data": {
            "text/html": [
              "<div>\n",
              "<style scoped>\n",
              "    .dataframe tbody tr th:only-of-type {\n",
              "        vertical-align: middle;\n",
              "    }\n",
              "\n",
              "    .dataframe tbody tr th {\n",
              "        vertical-align: top;\n",
              "    }\n",
              "\n",
              "    .dataframe thead th {\n",
              "        text-align: right;\n",
              "    }\n",
              "</style>\n",
              "<table border=\"1\" class=\"dataframe\">\n",
              "  <thead>\n",
              "    <tr style=\"text-align: right;\">\n",
              "      <th></th>\n",
              "      <th>Place</th>\n",
              "    </tr>\n",
              "  </thead>\n",
              "  <tbody>\n",
              "    <tr>\n",
              "      <th>0</th>\n",
              "      <td>Ernakulam</td>\n",
              "    </tr>\n",
              "    <tr>\n",
              "      <th>1</th>\n",
              "      <td>Bangalore</td>\n",
              "    </tr>\n",
              "    <tr>\n",
              "      <th>2</th>\n",
              "      <td>Bangalore</td>\n",
              "    </tr>\n",
              "    <tr>\n",
              "      <th>3</th>\n",
              "      <td>Bangalore</td>\n",
              "    </tr>\n",
              "    <tr>\n",
              "      <th>4</th>\n",
              "      <td>Chennai</td>\n",
              "    </tr>\n",
              "  </tbody>\n",
              "</table>\n",
              "</div>"
            ],
            "text/plain": [
              "       Place\n",
              "0  Ernakulam\n",
              "1  Bangalore\n",
              "2  Bangalore\n",
              "3  Bangalore\n",
              "4    Chennai"
            ]
          },
          "metadata": {
            "tags": []
          },
          "execution_count": 40
        }
      ]
    },
    {
      "cell_type": "code",
      "metadata": {
        "colab": {
          "base_uri": "https://localhost:8080/"
        },
        "id": "m4cMi6UICHQG",
        "outputId": "be46f818-f760-4bd2-c223-0bba11542a6d"
      },
      "source": [
        "from sklearn.preprocessing import LabelEncoder\n",
        "\n",
        "le = LabelEncoder()\n",
        "le.fit(consultas_aux2['Place'])\n",
        "le2 = LabelEncoder()\n",
        "le2.fit(consultas_aux2['Profile'])"
      ],
      "execution_count": 43,
      "outputs": [
        {
          "output_type": "execute_result",
          "data": {
            "text/plain": [
              "LabelEncoder()"
            ]
          },
          "metadata": {
            "tags": []
          },
          "execution_count": 43
        }
      ]
    },
    {
      "cell_type": "code",
      "metadata": {
        "colab": {
          "base_uri": "https://localhost:8080/"
        },
        "id": "qo6E7wHIFRXO",
        "outputId": "72356829-f35d-460e-f9a9-7237784bac3a"
      },
      "source": [
        "le.classes_"
      ],
      "execution_count": 44,
      "outputs": [
        {
          "output_type": "execute_result",
          "data": {
            "text/plain": [
              "array(['Bangalore', 'Chennai', 'Coimbatore', 'Delhi', 'Ernakulam',\n",
              "       'Hyderabad', 'Mumbai', 'Sector 5', 'Thiruvananthapuram'],\n",
              "      dtype=object)"
            ]
          },
          "metadata": {
            "tags": []
          },
          "execution_count": 44
        }
      ]
    },
    {
      "cell_type": "code",
      "metadata": {
        "colab": {
          "base_uri": "https://localhost:8080/"
        },
        "id": "joKaIOn5FbgM",
        "outputId": "58296dcc-0eda-4c50-d1d2-2de2375ae28a"
      },
      "source": [
        "le2.classes_"
      ],
      "execution_count": 45,
      "outputs": [
        {
          "output_type": "execute_result",
          "data": {
            "text/plain": [
              "array(['Ayurveda', 'Dentist', 'Dermatologists', 'ENT Specialist',\n",
              "       'General Medicine', 'Homeopath'], dtype=object)"
            ]
          },
          "metadata": {
            "tags": []
          },
          "execution_count": 45
        }
      ]
    },
    {
      "cell_type": "code",
      "metadata": {
        "id": "llJVDL8VF_Yq"
      },
      "source": [
        "consultas_aux2['Place'] = le.transform(consultas_aux2['Place'])\n",
        "consultas_aux2['Profile'] = le2.transform(consultas_aux2['Profile'])"
      ],
      "execution_count": 46,
      "outputs": []
    },
    {
      "cell_type": "code",
      "metadata": {
        "colab": {
          "base_uri": "https://localhost:8080/"
        },
        "id": "NUgK7x_yJTyJ",
        "outputId": "9e53be92-0200-4601-83d3-3f0bfa7a667b"
      },
      "source": [
        "consultas_aux2['Place'].unique()"
      ],
      "execution_count": 56,
      "outputs": [
        {
          "output_type": "execute_result",
          "data": {
            "text/plain": [
              "array([4, 0, 1, 3, 5, 2, 6, 8, 7])"
            ]
          },
          "metadata": {
            "tags": []
          },
          "execution_count": 56
        }
      ]
    },
    {
      "cell_type": "code",
      "metadata": {
        "colab": {
          "base_uri": "https://localhost:8080/"
        },
        "id": "EjrMIOcOJjGx",
        "outputId": "5ed6fa6b-6d5b-46fa-cbce-66c9083a4078"
      },
      "source": [
        "consultas_aux2['Profile'].unique()"
      ],
      "execution_count": 57,
      "outputs": [
        {
          "output_type": "execute_result",
          "data": {
            "text/plain": [
              "array([5, 0, 3, 1, 4, 2])"
            ]
          },
          "metadata": {
            "tags": []
          },
          "execution_count": 57
        }
      ]
    },
    {
      "cell_type": "code",
      "metadata": {
        "id": "VuZoZE9pG9lm"
      },
      "source": [
        "import seaborn as sb\n",
        "corr = consultas_aux2[['Experience','Profile',\t'Experience',\t'Place']].corr()"
      ],
      "execution_count": 52,
      "outputs": []
    },
    {
      "cell_type": "code",
      "metadata": {
        "id": "Lt2qD5bX_Ody"
      },
      "source": [
        "from sklearn.model_selection import cross_val_predict\n",
        "from sklearn.linear_model import LinearRegression\n",
        "predictedCV = cross_val_predict(LinearRegression(),dff.drop(columns=['Fees']) , dff['Fees'], cv=10)"
      ],
      "execution_count": 27,
      "outputs": []
    },
    {
      "cell_type": "markdown",
      "metadata": {
        "id": "Yf-gh7MiPKV3"
      },
      "source": [
        ">* O local específico da consulta varia muito, e acreditamos que dependendo de onde a consulta for feita, o preço será diferente. Como existem diversos \"bairros\", nos restringimos as cidades. Para isso fizemos uma função para retornar apenas as cidades"
      ]
    },
    {
      "cell_type": "code",
      "metadata": {
        "id": "UssAelQQO8p2"
      },
      "source": [
        "# Alterando tipo da coluna \"Place\"\n",
        "\n",
        "#funcão para retornar apenas a cidade\n",
        "def convert_place_to_city(places):\n",
        "  only_city = str(places)\n",
        "  if \", \" in only_city:\n",
        "    pop = only_city.split(', ')\n",
        "    return pop[1]\n",
        "  else:\n",
        "    return 'Bangalore'\n",
        "    \n",
        "## mais a frente poderemos perceber que Bangalore é a cidade mais presente, com isso colocaremos os 25\n",
        "## exemplos que não tem cidade definida para ser igual a \"bangalore\", pois há um probabilidade maior de acertar,\n",
        "## além de que apenas 25 num dataset com 5960 exemplos não terão impacto relevante.\n"
      ],
      "execution_count": 36,
      "outputs": []
    },
    {
      "cell_type": "code",
      "metadata": {
        "colab": {
          "base_uri": "https://localhost:8080/"
        },
        "id": "AOwAkaugQ74R",
        "outputId": "53ac300f-e9c8-44e1-9ded-8f529273e9c7"
      },
      "source": [
        "# Aplicando a função\n",
        "novaColunaPlace= consultas['Place'].apply(convert_place_to_city)\n",
        "novaColunaPlace\n"
      ],
      "execution_count": 37,
      "outputs": [
        {
          "output_type": "execute_result",
          "data": {
            "text/plain": [
              "0       Ernakulam\n",
              "1       Bangalore\n",
              "2       Bangalore\n",
              "3       Bangalore\n",
              "4         Chennai\n",
              "          ...    \n",
              "5956    Bangalore\n",
              "5957      Chennai\n",
              "5958        Delhi\n",
              "5959       Mumbai\n",
              "5960        Delhi\n",
              "Name: Place, Length: 5961, dtype: object"
            ]
          },
          "metadata": {
            "tags": []
          },
          "execution_count": 37
        }
      ]
    },
    {
      "cell_type": "code",
      "metadata": {
        "colab": {
          "base_uri": "https://localhost:8080/"
        },
        "id": "iNGxFCbuRiFC",
        "outputId": "edc6ff3d-5412-426e-e1f6-40ed777c0f80"
      },
      "source": [
        "novaColunaPlace.value_counts()\n"
      ],
      "execution_count": 38,
      "outputs": [
        {
          "output_type": "execute_result",
          "data": {
            "text/plain": [
              "Bangalore             1284\n",
              "Mumbai                1219\n",
              "Delhi                 1184\n",
              "Hyderabad              951\n",
              "Chennai                855\n",
              "Coimbatore             228\n",
              "Ernakulam              153\n",
              "Thiruvananthapuram      86\n",
              "Sector 5                 1\n",
              "Name: Place, dtype: int64"
            ]
          },
          "metadata": {
            "tags": []
          },
          "execution_count": 38
        }
      ]
    },
    {
      "cell_type": "markdown",
      "metadata": {
        "id": "Cwzx-ZdXUZLd"
      },
      "source": [
        ">* como podemos ver acima, Bangalore é a cidade mais presente, mesmo sem os 25 exemplos adicionados a ela"
      ]
    },
    {
      "cell_type": "code",
      "metadata": {
        "colab": {
          "base_uri": "https://localhost:8080/",
          "height": 414
        },
        "id": "DJD_cG3EVb8T",
        "outputId": "692fef7e-7414-46a6-f62b-fcadf2d93b1b"
      },
      "source": [
        "## Convertendo para int (dummies)\n",
        "dummies_places = pd.get_dummies(novaColunaPlace, prefix='city_')\n",
        "dummies_places"
      ],
      "execution_count": null,
      "outputs": [
        {
          "output_type": "execute_result",
          "data": {
            "text/html": [
              "<div>\n",
              "<style scoped>\n",
              "    .dataframe tbody tr th:only-of-type {\n",
              "        vertical-align: middle;\n",
              "    }\n",
              "\n",
              "    .dataframe tbody tr th {\n",
              "        vertical-align: top;\n",
              "    }\n",
              "\n",
              "    .dataframe thead th {\n",
              "        text-align: right;\n",
              "    }\n",
              "</style>\n",
              "<table border=\"1\" class=\"dataframe\">\n",
              "  <thead>\n",
              "    <tr style=\"text-align: right;\">\n",
              "      <th></th>\n",
              "      <th>city__Bangalore</th>\n",
              "      <th>city__Chennai</th>\n",
              "      <th>city__Coimbatore</th>\n",
              "      <th>city__Delhi</th>\n",
              "      <th>city__Ernakulam</th>\n",
              "      <th>city__Hyderabad</th>\n",
              "      <th>city__Mumbai</th>\n",
              "      <th>city__Sector 5</th>\n",
              "      <th>city__Thiruvananthapuram</th>\n",
              "    </tr>\n",
              "  </thead>\n",
              "  <tbody>\n",
              "    <tr>\n",
              "      <th>0</th>\n",
              "      <td>0</td>\n",
              "      <td>0</td>\n",
              "      <td>0</td>\n",
              "      <td>0</td>\n",
              "      <td>1</td>\n",
              "      <td>0</td>\n",
              "      <td>0</td>\n",
              "      <td>0</td>\n",
              "      <td>0</td>\n",
              "    </tr>\n",
              "    <tr>\n",
              "      <th>1</th>\n",
              "      <td>1</td>\n",
              "      <td>0</td>\n",
              "      <td>0</td>\n",
              "      <td>0</td>\n",
              "      <td>0</td>\n",
              "      <td>0</td>\n",
              "      <td>0</td>\n",
              "      <td>0</td>\n",
              "      <td>0</td>\n",
              "    </tr>\n",
              "    <tr>\n",
              "      <th>2</th>\n",
              "      <td>1</td>\n",
              "      <td>0</td>\n",
              "      <td>0</td>\n",
              "      <td>0</td>\n",
              "      <td>0</td>\n",
              "      <td>0</td>\n",
              "      <td>0</td>\n",
              "      <td>0</td>\n",
              "      <td>0</td>\n",
              "    </tr>\n",
              "    <tr>\n",
              "      <th>3</th>\n",
              "      <td>1</td>\n",
              "      <td>0</td>\n",
              "      <td>0</td>\n",
              "      <td>0</td>\n",
              "      <td>0</td>\n",
              "      <td>0</td>\n",
              "      <td>0</td>\n",
              "      <td>0</td>\n",
              "      <td>0</td>\n",
              "    </tr>\n",
              "    <tr>\n",
              "      <th>4</th>\n",
              "      <td>0</td>\n",
              "      <td>1</td>\n",
              "      <td>0</td>\n",
              "      <td>0</td>\n",
              "      <td>0</td>\n",
              "      <td>0</td>\n",
              "      <td>0</td>\n",
              "      <td>0</td>\n",
              "      <td>0</td>\n",
              "    </tr>\n",
              "    <tr>\n",
              "      <th>...</th>\n",
              "      <td>...</td>\n",
              "      <td>...</td>\n",
              "      <td>...</td>\n",
              "      <td>...</td>\n",
              "      <td>...</td>\n",
              "      <td>...</td>\n",
              "      <td>...</td>\n",
              "      <td>...</td>\n",
              "      <td>...</td>\n",
              "    </tr>\n",
              "    <tr>\n",
              "      <th>5956</th>\n",
              "      <td>1</td>\n",
              "      <td>0</td>\n",
              "      <td>0</td>\n",
              "      <td>0</td>\n",
              "      <td>0</td>\n",
              "      <td>0</td>\n",
              "      <td>0</td>\n",
              "      <td>0</td>\n",
              "      <td>0</td>\n",
              "    </tr>\n",
              "    <tr>\n",
              "      <th>5957</th>\n",
              "      <td>0</td>\n",
              "      <td>1</td>\n",
              "      <td>0</td>\n",
              "      <td>0</td>\n",
              "      <td>0</td>\n",
              "      <td>0</td>\n",
              "      <td>0</td>\n",
              "      <td>0</td>\n",
              "      <td>0</td>\n",
              "    </tr>\n",
              "    <tr>\n",
              "      <th>5958</th>\n",
              "      <td>0</td>\n",
              "      <td>0</td>\n",
              "      <td>0</td>\n",
              "      <td>1</td>\n",
              "      <td>0</td>\n",
              "      <td>0</td>\n",
              "      <td>0</td>\n",
              "      <td>0</td>\n",
              "      <td>0</td>\n",
              "    </tr>\n",
              "    <tr>\n",
              "      <th>5959</th>\n",
              "      <td>0</td>\n",
              "      <td>0</td>\n",
              "      <td>0</td>\n",
              "      <td>0</td>\n",
              "      <td>0</td>\n",
              "      <td>0</td>\n",
              "      <td>1</td>\n",
              "      <td>0</td>\n",
              "      <td>0</td>\n",
              "    </tr>\n",
              "    <tr>\n",
              "      <th>5960</th>\n",
              "      <td>0</td>\n",
              "      <td>0</td>\n",
              "      <td>0</td>\n",
              "      <td>1</td>\n",
              "      <td>0</td>\n",
              "      <td>0</td>\n",
              "      <td>0</td>\n",
              "      <td>0</td>\n",
              "      <td>0</td>\n",
              "    </tr>\n",
              "  </tbody>\n",
              "</table>\n",
              "<p>5961 rows × 9 columns</p>\n",
              "</div>"
            ],
            "text/plain": [
              "      city__Bangalore  city__Chennai  ...  city__Sector 5  city__Thiruvananthapuram\n",
              "0                   0              0  ...               0                         0\n",
              "1                   1              0  ...               0                         0\n",
              "2                   1              0  ...               0                         0\n",
              "3                   1              0  ...               0                         0\n",
              "4                   0              1  ...               0                         0\n",
              "...               ...            ...  ...             ...                       ...\n",
              "5956                1              0  ...               0                         0\n",
              "5957                0              1  ...               0                         0\n",
              "5958                0              0  ...               0                         0\n",
              "5959                0              0  ...               0                         0\n",
              "5960                0              0  ...               0                         0\n",
              "\n",
              "[5961 rows x 9 columns]"
            ]
          },
          "metadata": {
            "tags": []
          },
          "execution_count": 88
        }
      ]
    },
    {
      "cell_type": "code",
      "metadata": {
        "id": "4MMczqpkW2fg"
      },
      "source": [
        "consultas = dummies_places.join(consultas.drop(columns=[\"Place\"]))"
      ],
      "execution_count": null,
      "outputs": []
    },
    {
      "cell_type": "code",
      "metadata": {
        "colab": {
          "base_uri": "https://localhost:8080/",
          "height": 238
        },
        "id": "4Y8OUT4sWkTy",
        "outputId": "54841ad2-0ac4-438c-c682-c64ae611c147"
      },
      "source": [
        "consultas.head()"
      ],
      "execution_count": null,
      "outputs": [
        {
          "output_type": "execute_result",
          "data": {
            "text/html": [
              "<div>\n",
              "<style scoped>\n",
              "    .dataframe tbody tr th:only-of-type {\n",
              "        vertical-align: middle;\n",
              "    }\n",
              "\n",
              "    .dataframe tbody tr th {\n",
              "        vertical-align: top;\n",
              "    }\n",
              "\n",
              "    .dataframe thead th {\n",
              "        text-align: right;\n",
              "    }\n",
              "</style>\n",
              "<table border=\"1\" class=\"dataframe\">\n",
              "  <thead>\n",
              "    <tr style=\"text-align: right;\">\n",
              "      <th></th>\n",
              "      <th>city__Bangalore</th>\n",
              "      <th>city__Chennai</th>\n",
              "      <th>city__Coimbatore</th>\n",
              "      <th>city__Delhi</th>\n",
              "      <th>city__Ernakulam</th>\n",
              "      <th>city__Hyderabad</th>\n",
              "      <th>city__Mumbai</th>\n",
              "      <th>city__Sector 5</th>\n",
              "      <th>city__Thiruvananthapuram</th>\n",
              "      <th>spec__Ayurveda</th>\n",
              "      <th>spec__Dentist</th>\n",
              "      <th>spec__Dermatologists</th>\n",
              "      <th>spec__ENT Specialist</th>\n",
              "      <th>spec__General Medicine</th>\n",
              "      <th>spec__Homeopath</th>\n",
              "      <th>Experience</th>\n",
              "      <th>Fees</th>\n",
              "    </tr>\n",
              "  </thead>\n",
              "  <tbody>\n",
              "    <tr>\n",
              "      <th>0</th>\n",
              "      <td>0</td>\n",
              "      <td>0</td>\n",
              "      <td>0</td>\n",
              "      <td>0</td>\n",
              "      <td>1</td>\n",
              "      <td>0</td>\n",
              "      <td>0</td>\n",
              "      <td>0</td>\n",
              "      <td>0</td>\n",
              "      <td>0</td>\n",
              "      <td>0</td>\n",
              "      <td>0</td>\n",
              "      <td>0</td>\n",
              "      <td>0</td>\n",
              "      <td>1</td>\n",
              "      <td>24</td>\n",
              "      <td>100</td>\n",
              "    </tr>\n",
              "    <tr>\n",
              "      <th>1</th>\n",
              "      <td>1</td>\n",
              "      <td>0</td>\n",
              "      <td>0</td>\n",
              "      <td>0</td>\n",
              "      <td>0</td>\n",
              "      <td>0</td>\n",
              "      <td>0</td>\n",
              "      <td>0</td>\n",
              "      <td>0</td>\n",
              "      <td>1</td>\n",
              "      <td>0</td>\n",
              "      <td>0</td>\n",
              "      <td>0</td>\n",
              "      <td>0</td>\n",
              "      <td>0</td>\n",
              "      <td>12</td>\n",
              "      <td>350</td>\n",
              "    </tr>\n",
              "    <tr>\n",
              "      <th>2</th>\n",
              "      <td>1</td>\n",
              "      <td>0</td>\n",
              "      <td>0</td>\n",
              "      <td>0</td>\n",
              "      <td>0</td>\n",
              "      <td>0</td>\n",
              "      <td>0</td>\n",
              "      <td>0</td>\n",
              "      <td>0</td>\n",
              "      <td>0</td>\n",
              "      <td>0</td>\n",
              "      <td>0</td>\n",
              "      <td>1</td>\n",
              "      <td>0</td>\n",
              "      <td>0</td>\n",
              "      <td>9</td>\n",
              "      <td>300</td>\n",
              "    </tr>\n",
              "    <tr>\n",
              "      <th>3</th>\n",
              "      <td>1</td>\n",
              "      <td>0</td>\n",
              "      <td>0</td>\n",
              "      <td>0</td>\n",
              "      <td>0</td>\n",
              "      <td>0</td>\n",
              "      <td>0</td>\n",
              "      <td>0</td>\n",
              "      <td>0</td>\n",
              "      <td>1</td>\n",
              "      <td>0</td>\n",
              "      <td>0</td>\n",
              "      <td>0</td>\n",
              "      <td>0</td>\n",
              "      <td>0</td>\n",
              "      <td>12</td>\n",
              "      <td>250</td>\n",
              "    </tr>\n",
              "    <tr>\n",
              "      <th>4</th>\n",
              "      <td>0</td>\n",
              "      <td>1</td>\n",
              "      <td>0</td>\n",
              "      <td>0</td>\n",
              "      <td>0</td>\n",
              "      <td>0</td>\n",
              "      <td>0</td>\n",
              "      <td>0</td>\n",
              "      <td>0</td>\n",
              "      <td>1</td>\n",
              "      <td>0</td>\n",
              "      <td>0</td>\n",
              "      <td>0</td>\n",
              "      <td>0</td>\n",
              "      <td>0</td>\n",
              "      <td>20</td>\n",
              "      <td>250</td>\n",
              "    </tr>\n",
              "  </tbody>\n",
              "</table>\n",
              "</div>"
            ],
            "text/plain": [
              "   city__Bangalore  city__Chennai  ...  Experience  Fees\n",
              "0                0              0  ...          24   100\n",
              "1                1              0  ...          12   350\n",
              "2                1              0  ...           9   300\n",
              "3                1              0  ...          12   250\n",
              "4                0              1  ...          20   250\n",
              "\n",
              "[5 rows x 17 columns]"
            ]
          },
          "metadata": {
            "tags": []
          },
          "execution_count": 93
        }
      ]
    },
    {
      "cell_type": "code",
      "metadata": {
        "colab": {
          "base_uri": "https://localhost:8080/",
          "height": 451
        },
        "id": "RI1lNy7nW86Q",
        "outputId": "448de8ea-32c9-41e9-9d8a-2022925a9ea9"
      },
      "source": [
        "consultas_base = consultas\n",
        "consultas_base"
      ],
      "execution_count": null,
      "outputs": [
        {
          "output_type": "execute_result",
          "data": {
            "text/html": [
              "<div>\n",
              "<style scoped>\n",
              "    .dataframe tbody tr th:only-of-type {\n",
              "        vertical-align: middle;\n",
              "    }\n",
              "\n",
              "    .dataframe tbody tr th {\n",
              "        vertical-align: top;\n",
              "    }\n",
              "\n",
              "    .dataframe thead th {\n",
              "        text-align: right;\n",
              "    }\n",
              "</style>\n",
              "<table border=\"1\" class=\"dataframe\">\n",
              "  <thead>\n",
              "    <tr style=\"text-align: right;\">\n",
              "      <th></th>\n",
              "      <th>city__Bangalore</th>\n",
              "      <th>city__Chennai</th>\n",
              "      <th>city__Coimbatore</th>\n",
              "      <th>city__Delhi</th>\n",
              "      <th>city__Ernakulam</th>\n",
              "      <th>city__Hyderabad</th>\n",
              "      <th>city__Mumbai</th>\n",
              "      <th>city__Sector 5</th>\n",
              "      <th>city__Thiruvananthapuram</th>\n",
              "      <th>spec__Ayurveda</th>\n",
              "      <th>spec__Dentist</th>\n",
              "      <th>spec__Dermatologists</th>\n",
              "      <th>spec__ENT Specialist</th>\n",
              "      <th>spec__General Medicine</th>\n",
              "      <th>spec__Homeopath</th>\n",
              "      <th>Experience</th>\n",
              "      <th>Fees</th>\n",
              "    </tr>\n",
              "  </thead>\n",
              "  <tbody>\n",
              "    <tr>\n",
              "      <th>0</th>\n",
              "      <td>0</td>\n",
              "      <td>0</td>\n",
              "      <td>0</td>\n",
              "      <td>0</td>\n",
              "      <td>1</td>\n",
              "      <td>0</td>\n",
              "      <td>0</td>\n",
              "      <td>0</td>\n",
              "      <td>0</td>\n",
              "      <td>0</td>\n",
              "      <td>0</td>\n",
              "      <td>0</td>\n",
              "      <td>0</td>\n",
              "      <td>0</td>\n",
              "      <td>1</td>\n",
              "      <td>24</td>\n",
              "      <td>100</td>\n",
              "    </tr>\n",
              "    <tr>\n",
              "      <th>1</th>\n",
              "      <td>1</td>\n",
              "      <td>0</td>\n",
              "      <td>0</td>\n",
              "      <td>0</td>\n",
              "      <td>0</td>\n",
              "      <td>0</td>\n",
              "      <td>0</td>\n",
              "      <td>0</td>\n",
              "      <td>0</td>\n",
              "      <td>1</td>\n",
              "      <td>0</td>\n",
              "      <td>0</td>\n",
              "      <td>0</td>\n",
              "      <td>0</td>\n",
              "      <td>0</td>\n",
              "      <td>12</td>\n",
              "      <td>350</td>\n",
              "    </tr>\n",
              "    <tr>\n",
              "      <th>2</th>\n",
              "      <td>1</td>\n",
              "      <td>0</td>\n",
              "      <td>0</td>\n",
              "      <td>0</td>\n",
              "      <td>0</td>\n",
              "      <td>0</td>\n",
              "      <td>0</td>\n",
              "      <td>0</td>\n",
              "      <td>0</td>\n",
              "      <td>0</td>\n",
              "      <td>0</td>\n",
              "      <td>0</td>\n",
              "      <td>1</td>\n",
              "      <td>0</td>\n",
              "      <td>0</td>\n",
              "      <td>9</td>\n",
              "      <td>300</td>\n",
              "    </tr>\n",
              "    <tr>\n",
              "      <th>3</th>\n",
              "      <td>1</td>\n",
              "      <td>0</td>\n",
              "      <td>0</td>\n",
              "      <td>0</td>\n",
              "      <td>0</td>\n",
              "      <td>0</td>\n",
              "      <td>0</td>\n",
              "      <td>0</td>\n",
              "      <td>0</td>\n",
              "      <td>1</td>\n",
              "      <td>0</td>\n",
              "      <td>0</td>\n",
              "      <td>0</td>\n",
              "      <td>0</td>\n",
              "      <td>0</td>\n",
              "      <td>12</td>\n",
              "      <td>250</td>\n",
              "    </tr>\n",
              "    <tr>\n",
              "      <th>4</th>\n",
              "      <td>0</td>\n",
              "      <td>1</td>\n",
              "      <td>0</td>\n",
              "      <td>0</td>\n",
              "      <td>0</td>\n",
              "      <td>0</td>\n",
              "      <td>0</td>\n",
              "      <td>0</td>\n",
              "      <td>0</td>\n",
              "      <td>1</td>\n",
              "      <td>0</td>\n",
              "      <td>0</td>\n",
              "      <td>0</td>\n",
              "      <td>0</td>\n",
              "      <td>0</td>\n",
              "      <td>20</td>\n",
              "      <td>250</td>\n",
              "    </tr>\n",
              "    <tr>\n",
              "      <th>...</th>\n",
              "      <td>...</td>\n",
              "      <td>...</td>\n",
              "      <td>...</td>\n",
              "      <td>...</td>\n",
              "      <td>...</td>\n",
              "      <td>...</td>\n",
              "      <td>...</td>\n",
              "      <td>...</td>\n",
              "      <td>...</td>\n",
              "      <td>...</td>\n",
              "      <td>...</td>\n",
              "      <td>...</td>\n",
              "      <td>...</td>\n",
              "      <td>...</td>\n",
              "      <td>...</td>\n",
              "      <td>...</td>\n",
              "      <td>...</td>\n",
              "    </tr>\n",
              "    <tr>\n",
              "      <th>5956</th>\n",
              "      <td>1</td>\n",
              "      <td>0</td>\n",
              "      <td>0</td>\n",
              "      <td>0</td>\n",
              "      <td>0</td>\n",
              "      <td>0</td>\n",
              "      <td>0</td>\n",
              "      <td>0</td>\n",
              "      <td>0</td>\n",
              "      <td>0</td>\n",
              "      <td>0</td>\n",
              "      <td>0</td>\n",
              "      <td>1</td>\n",
              "      <td>0</td>\n",
              "      <td>0</td>\n",
              "      <td>19</td>\n",
              "      <td>300</td>\n",
              "    </tr>\n",
              "    <tr>\n",
              "      <th>5957</th>\n",
              "      <td>0</td>\n",
              "      <td>1</td>\n",
              "      <td>0</td>\n",
              "      <td>0</td>\n",
              "      <td>0</td>\n",
              "      <td>0</td>\n",
              "      <td>0</td>\n",
              "      <td>0</td>\n",
              "      <td>0</td>\n",
              "      <td>0</td>\n",
              "      <td>0</td>\n",
              "      <td>0</td>\n",
              "      <td>0</td>\n",
              "      <td>1</td>\n",
              "      <td>0</td>\n",
              "      <td>33</td>\n",
              "      <td>100</td>\n",
              "    </tr>\n",
              "    <tr>\n",
              "      <th>5958</th>\n",
              "      <td>0</td>\n",
              "      <td>0</td>\n",
              "      <td>0</td>\n",
              "      <td>1</td>\n",
              "      <td>0</td>\n",
              "      <td>0</td>\n",
              "      <td>0</td>\n",
              "      <td>0</td>\n",
              "      <td>0</td>\n",
              "      <td>0</td>\n",
              "      <td>0</td>\n",
              "      <td>0</td>\n",
              "      <td>0</td>\n",
              "      <td>1</td>\n",
              "      <td>0</td>\n",
              "      <td>41</td>\n",
              "      <td>600</td>\n",
              "    </tr>\n",
              "    <tr>\n",
              "      <th>5959</th>\n",
              "      <td>0</td>\n",
              "      <td>0</td>\n",
              "      <td>0</td>\n",
              "      <td>0</td>\n",
              "      <td>0</td>\n",
              "      <td>0</td>\n",
              "      <td>1</td>\n",
              "      <td>0</td>\n",
              "      <td>0</td>\n",
              "      <td>0</td>\n",
              "      <td>0</td>\n",
              "      <td>0</td>\n",
              "      <td>0</td>\n",
              "      <td>1</td>\n",
              "      <td>0</td>\n",
              "      <td>15</td>\n",
              "      <td>100</td>\n",
              "    </tr>\n",
              "    <tr>\n",
              "      <th>5960</th>\n",
              "      <td>0</td>\n",
              "      <td>0</td>\n",
              "      <td>0</td>\n",
              "      <td>1</td>\n",
              "      <td>0</td>\n",
              "      <td>0</td>\n",
              "      <td>0</td>\n",
              "      <td>0</td>\n",
              "      <td>0</td>\n",
              "      <td>0</td>\n",
              "      <td>1</td>\n",
              "      <td>0</td>\n",
              "      <td>0</td>\n",
              "      <td>0</td>\n",
              "      <td>0</td>\n",
              "      <td>17</td>\n",
              "      <td>200</td>\n",
              "    </tr>\n",
              "  </tbody>\n",
              "</table>\n",
              "<p>5961 rows × 17 columns</p>\n",
              "</div>"
            ],
            "text/plain": [
              "      city__Bangalore  city__Chennai  ...  Experience  Fees\n",
              "0                   0              0  ...          24   100\n",
              "1                   1              0  ...          12   350\n",
              "2                   1              0  ...           9   300\n",
              "3                   1              0  ...          12   250\n",
              "4                   0              1  ...          20   250\n",
              "...               ...            ...  ...         ...   ...\n",
              "5956                1              0  ...          19   300\n",
              "5957                0              1  ...          33   100\n",
              "5958                0              0  ...          41   600\n",
              "5959                0              0  ...          15   100\n",
              "5960                0              0  ...          17   200\n",
              "\n",
              "[5961 rows x 17 columns]"
            ]
          },
          "metadata": {
            "tags": []
          },
          "execution_count": 94
        }
      ]
    },
    {
      "cell_type": "code",
      "metadata": {
        "colab": {
          "base_uri": "https://localhost:8080/"
        },
        "id": "uHhayJbOXcQ2",
        "outputId": "832e0c06-d077-46a9-c304-d7a38ce1d2d0"
      },
      "source": [
        "from google.colab import drive\n",
        "drive.mount('/content/drive')"
      ],
      "execution_count": null,
      "outputs": [
        {
          "output_type": "stream",
          "text": [
            "Mounted at /content/drive\n"
          ],
          "name": "stdout"
        }
      ]
    },
    {
      "cell_type": "code",
      "metadata": {
        "colab": {
          "base_uri": "https://localhost:8080/"
        },
        "id": "v0mCTV4ZaGVB",
        "outputId": "8aac0659-051c-49bf-f854-c9d2c1f8b549"
      },
      "source": [
        "%cd /content/drive/MyDrive/Colab\\ Notebooks"
      ],
      "execution_count": null,
      "outputs": [
        {
          "output_type": "stream",
          "text": [
            "/content/drive/MyDrive/Colab Notebooks\n"
          ],
          "name": "stdout"
        }
      ]
    },
    {
      "cell_type": "code",
      "metadata": {
        "id": "aRk_Yo00YN6I"
      },
      "source": [
        "consultas_base.to_csv('./consultasTratadas.csv', index = False,)\n",
        "#df.to_csv (r'C:\\Users\\Ron\\Desktop\\export_dataframe.csv', index = False, header=True)"
      ],
      "execution_count": null,
      "outputs": []
    },
    {
      "cell_type": "markdown",
      "metadata": {
        "id": "cPP1LzU_bRIU"
      },
      "source": [
        "# Aplicação dos algoritmos"
      ]
    },
    {
      "cell_type": "code",
      "metadata": {
        "colab": {
          "base_uri": "https://localhost:8080/",
          "height": 238
        },
        "id": "sBBBXuoAbVTw",
        "outputId": "334f4988-d33c-4356-b950-719616a89708"
      },
      "source": [
        "import pandas as pd\n",
        "\n",
        "base_tratada = pd.read_csv('https://raw.githubusercontent.com/ashouy/Aprendizado-de-Maquina/main/bases/consultation_fee/consultasTratadas.csv')\n",
        "base_tratada.head()"
      ],
      "execution_count": 1,
      "outputs": [
        {
          "output_type": "execute_result",
          "data": {
            "text/html": [
              "<div>\n",
              "<style scoped>\n",
              "    .dataframe tbody tr th:only-of-type {\n",
              "        vertical-align: middle;\n",
              "    }\n",
              "\n",
              "    .dataframe tbody tr th {\n",
              "        vertical-align: top;\n",
              "    }\n",
              "\n",
              "    .dataframe thead th {\n",
              "        text-align: right;\n",
              "    }\n",
              "</style>\n",
              "<table border=\"1\" class=\"dataframe\">\n",
              "  <thead>\n",
              "    <tr style=\"text-align: right;\">\n",
              "      <th></th>\n",
              "      <th>city__Bangalore</th>\n",
              "      <th>city__Chennai</th>\n",
              "      <th>city__Coimbatore</th>\n",
              "      <th>city__Delhi</th>\n",
              "      <th>city__Ernakulam</th>\n",
              "      <th>city__Hyderabad</th>\n",
              "      <th>city__Mumbai</th>\n",
              "      <th>city__Sector 5</th>\n",
              "      <th>city__Thiruvananthapuram</th>\n",
              "      <th>spec__Ayurveda</th>\n",
              "      <th>spec__Dentist</th>\n",
              "      <th>spec__Dermatologists</th>\n",
              "      <th>spec__ENT Specialist</th>\n",
              "      <th>spec__General Medicine</th>\n",
              "      <th>spec__Homeopath</th>\n",
              "      <th>Experience</th>\n",
              "      <th>Fees</th>\n",
              "    </tr>\n",
              "  </thead>\n",
              "  <tbody>\n",
              "    <tr>\n",
              "      <th>0</th>\n",
              "      <td>0</td>\n",
              "      <td>0</td>\n",
              "      <td>0</td>\n",
              "      <td>0</td>\n",
              "      <td>1</td>\n",
              "      <td>0</td>\n",
              "      <td>0</td>\n",
              "      <td>0</td>\n",
              "      <td>0</td>\n",
              "      <td>0</td>\n",
              "      <td>0</td>\n",
              "      <td>0</td>\n",
              "      <td>0</td>\n",
              "      <td>0</td>\n",
              "      <td>1</td>\n",
              "      <td>24</td>\n",
              "      <td>100</td>\n",
              "    </tr>\n",
              "    <tr>\n",
              "      <th>1</th>\n",
              "      <td>1</td>\n",
              "      <td>0</td>\n",
              "      <td>0</td>\n",
              "      <td>0</td>\n",
              "      <td>0</td>\n",
              "      <td>0</td>\n",
              "      <td>0</td>\n",
              "      <td>0</td>\n",
              "      <td>0</td>\n",
              "      <td>1</td>\n",
              "      <td>0</td>\n",
              "      <td>0</td>\n",
              "      <td>0</td>\n",
              "      <td>0</td>\n",
              "      <td>0</td>\n",
              "      <td>12</td>\n",
              "      <td>350</td>\n",
              "    </tr>\n",
              "    <tr>\n",
              "      <th>2</th>\n",
              "      <td>1</td>\n",
              "      <td>0</td>\n",
              "      <td>0</td>\n",
              "      <td>0</td>\n",
              "      <td>0</td>\n",
              "      <td>0</td>\n",
              "      <td>0</td>\n",
              "      <td>0</td>\n",
              "      <td>0</td>\n",
              "      <td>0</td>\n",
              "      <td>0</td>\n",
              "      <td>0</td>\n",
              "      <td>1</td>\n",
              "      <td>0</td>\n",
              "      <td>0</td>\n",
              "      <td>9</td>\n",
              "      <td>300</td>\n",
              "    </tr>\n",
              "    <tr>\n",
              "      <th>3</th>\n",
              "      <td>1</td>\n",
              "      <td>0</td>\n",
              "      <td>0</td>\n",
              "      <td>0</td>\n",
              "      <td>0</td>\n",
              "      <td>0</td>\n",
              "      <td>0</td>\n",
              "      <td>0</td>\n",
              "      <td>0</td>\n",
              "      <td>1</td>\n",
              "      <td>0</td>\n",
              "      <td>0</td>\n",
              "      <td>0</td>\n",
              "      <td>0</td>\n",
              "      <td>0</td>\n",
              "      <td>12</td>\n",
              "      <td>250</td>\n",
              "    </tr>\n",
              "    <tr>\n",
              "      <th>4</th>\n",
              "      <td>0</td>\n",
              "      <td>1</td>\n",
              "      <td>0</td>\n",
              "      <td>0</td>\n",
              "      <td>0</td>\n",
              "      <td>0</td>\n",
              "      <td>0</td>\n",
              "      <td>0</td>\n",
              "      <td>0</td>\n",
              "      <td>1</td>\n",
              "      <td>0</td>\n",
              "      <td>0</td>\n",
              "      <td>0</td>\n",
              "      <td>0</td>\n",
              "      <td>0</td>\n",
              "      <td>20</td>\n",
              "      <td>250</td>\n",
              "    </tr>\n",
              "  </tbody>\n",
              "</table>\n",
              "</div>"
            ],
            "text/plain": [
              "   city__Bangalore  city__Chennai  ...  Experience  Fees\n",
              "0                0              0  ...          24   100\n",
              "1                1              0  ...          12   350\n",
              "2                1              0  ...           9   300\n",
              "3                1              0  ...          12   250\n",
              "4                0              1  ...          20   250\n",
              "\n",
              "[5 rows x 17 columns]"
            ]
          },
          "metadata": {
            "tags": []
          },
          "execution_count": 1
        }
      ]
    },
    {
      "cell_type": "code",
      "metadata": {
        "id": "pYg1l68F91Xs"
      },
      "source": [
        "from sklearn.model_selection import cross_val_predict\n",
        "from sklearn.linear_model import LinearRegression\n",
        "\n",
        "predictedCV = cross_val_predict(LinearRegression(),base_tratada.drop(columns=['Fees']) , base_tratada['Fees'], cv=10)"
      ],
      "execution_count": 7,
      "outputs": []
    },
    {
      "cell_type": "code",
      "metadata": {
        "colab": {
          "base_uri": "https://localhost:8080/",
          "height": 282
        },
        "id": "8QbOJWIK96JA",
        "outputId": "71013aea-e6f9-4b54-b03b-516d09233f53"
      },
      "source": [
        "import matplotlib.pyplot as plt\n",
        "plt.scatter(base_tratada['Fees'], predictedCV)"
      ],
      "execution_count": 8,
      "outputs": [
        {
          "output_type": "execute_result",
          "data": {
            "text/plain": [
              "<matplotlib.collections.PathCollection at 0x7f516b205f10>"
            ]
          },
          "metadata": {
            "tags": []
          },
          "execution_count": 8
        },
        {
          "output_type": "display_data",
          "data": {
            "image/png": "[encoded data removed]",
            "text/plain": [
              "<Figure size 432x288 with 1 Axes>"
            ]
          },
          "metadata": {
            "tags": [],
            "needs_background": "light"
          }
        }
      ]
    },
    {
      "cell_type": "markdown",
      "metadata": {
        "id": "VEqm5q-qhoBj"
      },
      "source": [
        "## Importações necessárias"
      ]
    },
    {
      "cell_type": "code",
      "metadata": {
        "id": "jxuJMeabhtB9"
      },
      "source": [
        "import pandas as pd\n",
        "import numpy as np\n",
        "import matplotlib.pyplot as plt\n",
        "\n",
        "from sklearn.datasets import load_boston\n",
        "\n",
        "from sklearn.linear_model import LinearRegression"
      ],
      "execution_count": 23,
      "outputs": []
    },
    {
      "cell_type": "markdown",
      "metadata": {
        "id": "YnyqnqFvgu2P"
      },
      "source": [
        "## Classe runregression\n",
        "\n",
        "Para executar validação cruzada e obter a média e desvio padrão das métricas (MAE, MSE, RMSE e R2)"
      ]
    },
    {
      "cell_type": "code",
      "metadata": {
        "id": "1ry3clI4gwIy"
      },
      "source": [
        "import numpy as np\n",
        "from sklearn.model_selection import KFold\n",
        "from sklearn import metrics\n",
        "\n",
        "class runregression:\n",
        "  '''\n",
        "    Parâmetros de entrada:\n",
        "\n",
        "    X: atributos de entradas\n",
        "    y: atributo alvo\n",
        "    model: algoritmo para construção do estimador\n",
        "    cv: quantidade de folds da validação cruzada\n",
        "\n",
        "    Guarda as métricas de cada execução em resultados e \n",
        "    Mostra os valores médios com desvio padrão para as métricas (mostraresultadomedio)   \n",
        "  '''\n",
        "\n",
        "  def __init__(self, X, y, model, cv = 5):\n",
        "    \n",
        "    self.__resultados = {\n",
        "      'MAE': [],\n",
        "      'MSE': [],\n",
        "      'RMSE': [],\n",
        "      'R2': []\n",
        "    }\n",
        "\n",
        "    print(f'validação cruzada com {cv} folds')\n",
        "    self.__avaliamodelo_cv(X, y, model, cv)\n",
        "\n",
        "  @property\n",
        "  def resultados(self):\n",
        "    return self.__resultados\n",
        "\n",
        "  def __avaliamodelo_cv(self, X, y, model, cv):\n",
        "    #gera as amostras para cv folds com embaralhamento (permite fazer várias validações cruzadas)\n",
        "    kf = KFold(shuffle=True, n_splits=cv)\n",
        "    #para cada fold: treina, testa e armazena os resultados\n",
        "    for train_index, test_index in kf.split(X, y):\n",
        "      model.fit(X.iloc[train_index], y.iloc[train_index])\n",
        "      pred = model.predict(X.iloc[test_index])\n",
        "      self.__resultados['MAE'].append(metrics.mean_absolute_error(y[test_index], pred))\n",
        "      self.__resultados['MSE'].append(metrics.mean_squared_error(y[test_index], pred))\n",
        "      self.__resultados['RMSE'].append(np.sqrt(metrics.mean_squared_error(y[test_index], pred)))\n",
        "      self.__resultados['R2'].append(metrics.r2_score(y[test_index], pred))\n",
        "\n",
        "  def mostraresultadomedio(self):\n",
        "    print(f\"MAE: {np.mean(self.__resultados['MAE']):.2f} +- {np.std(self.__resultados['MAE']):.2f}\")\n",
        "    print(f\"MSE: {np.mean(self.__resultados['MSE']):.2f} +- {np.std(self.__resultados['MSE']):.2f}\")\n",
        "    print(f\"RMSE: {np.mean(self.__resultados['RMSE']):.2f} +- {np.std(self.__resultados['RMSE']):.2f}\")\n",
        "    print(f\"R2: {np.mean(self.__resultados['R2']):.2f} +- {np.std(self.__resultados['R2']):.2f}\")"
      ],
      "execution_count": 24,
      "outputs": []
    },
    {
      "cell_type": "markdown",
      "metadata": {
        "id": "5m4yI57og_LQ"
      },
      "source": [
        "### Linear Regression"
      ]
    },
    {
      "cell_type": "code",
      "metadata": {
        "colab": {
          "base_uri": "https://localhost:8080/"
        },
        "id": "xzGgzPWMnZEv",
        "outputId": "27011cab-6640-4541-b3b7-160d1d07bda8"
      },
      "source": [
        "# Erro ao executar regressão linear simples\n",
        "cross_validation_RL = runregression(base_tratada.drop(columns={'Fees'}), base_tratada['Fees'], LinearRegression(), cv = 10)\n",
        "cross_validation_RL.mostraresultadomedio()"
      ],
      "execution_count": null,
      "outputs": [
        {
          "output_type": "stream",
          "text": [
            "validação cruzada com 10 folds\n",
            "MAE: 140.61 +- 3.97\n",
            "MSE: 31093.77 +- 1689.62\n",
            "RMSE: 176.27 +- 4.83\n",
            "R2: 0.15 +- 0.02\n"
          ],
          "name": "stdout"
        }
      ]
    },
    {
      "cell_type": "markdown",
      "metadata": {
        "id": "6TfCrCB5nrkb"
      },
      "source": [
        "### KNN regressor\n",
        "\n",
        "Na regressão, o KNN calcula a média dos k vizinhos mais próximos (**média simples ou poderada**) para o novo exemplo\n"
      ]
    },
    {
      "cell_type": "code",
      "metadata": {
        "colab": {
          "base_uri": "https://localhost:8080/"
        },
        "id": "WEapJSIKhALj",
        "outputId": "1db2b7b5-063b-4d27-bbe0-d3944a5ac88f"
      },
      "source": [
        "# cross_validation_RL = runregression(base_tratada.drop(columns={'Fees'}), base_tratada['Fees'], LinearRegression(), cv = 10)\n",
        "# cross_validation_RL.mostraresultadomedio()\n",
        "from sklearn.model_selection import train_test_split\n",
        "\n",
        "X_train, X_test, y_train, y_test = train_test_split(base_tratada.drop(columns={'Fees'}), base_tratada['Fees'], test_size=0.33)\n",
        "from sklearn.model_selection import GridSearchCV\n",
        "from sklearn.neighbors import KNeighborsRegressor\n",
        "\n",
        "#define os parâmetros a serem testados com o KNN\n",
        "param_grid_knn = {'n_neighbors': range(1,40,2), 'weights': ['uniform', 'distance'], 'p': [1, 2, 3]} \n",
        "#cria o objeto do gridsearchcv\n",
        "gridknn = GridSearchCV(KNeighborsRegressor(), param_grid_knn,  cv = 10, verbose = 1) \n",
        "#executa o gridsearchcv para a base separando X e y\n",
        "gridknn.fit(X_train,y_train)"
      ],
      "execution_count": null,
      "outputs": [
        {
          "output_type": "stream",
          "text": [
            "Fitting 10 folds for each of 120 candidates, totalling 1200 fits\n"
          ],
          "name": "stdout"
        },
        {
          "output_type": "stream",
          "text": [
            "[Parallel(n_jobs=1)]: Using backend SequentialBackend with 1 concurrent workers.\n",
            "[Parallel(n_jobs=1)]: Done 1200 out of 1200 | elapsed:   43.5s finished\n"
          ],
          "name": "stderr"
        },
        {
          "output_type": "execute_result",
          "data": {
            "text/plain": [
              "GridSearchCV(cv=10, error_score=nan,\n",
              "             estimator=KNeighborsRegressor(algorithm='auto', leaf_size=30,\n",
              "                                           metric='minkowski',\n",
              "                                           metric_params=None, n_jobs=None,\n",
              "                                           n_neighbors=5, p=2,\n",
              "                                           weights='uniform'),\n",
              "             iid='deprecated', n_jobs=None,\n",
              "             param_grid={'n_neighbors': range(1, 40, 2), 'p': [1, 2, 3],\n",
              "                         'weights': ['uniform', 'distance']},\n",
              "             pre_dispatch='2*n_jobs', refit=True, return_train_score=False,\n",
              "             scoring=None, verbose=1)"
            ]
          },
          "metadata": {
            "tags": []
          },
          "execution_count": 7
        }
      ]
    },
    {
      "cell_type": "code",
      "metadata": {
        "colab": {
          "base_uri": "https://localhost:8080/"
        },
        "id": "oNpNSqzfoRcB",
        "outputId": "88e4c031-c145-495f-babc-480b88c163ed"
      },
      "source": [
        "gridknn.best_params_"
      ],
      "execution_count": null,
      "outputs": [
        {
          "output_type": "execute_result",
          "data": {
            "text/plain": [
              "{'n_neighbors': 27, 'p': 1, 'weights': 'uniform'}"
            ]
          },
          "metadata": {
            "tags": []
          },
          "execution_count": 9
        }
      ]
    },
    {
      "cell_type": "markdown",
      "metadata": {
        "id": "TNKZZyBJoWq_"
      },
      "source": [
        "## Teste com os melhores parâmetros"
      ]
    },
    {
      "cell_type": "code",
      "metadata": {
        "colab": {
          "base_uri": "https://localhost:8080/"
        },
        "id": "RETanXWdoS3c",
        "outputId": "12aeb9f2-5c1d-418a-a061-378a00c53e87"
      },
      "source": [
        "pred = gridknn.predict(X_test)\n",
        "\n",
        "print('MAE:', metrics.mean_absolute_error(y_test, pred))\n",
        "print('MSE:', metrics.mean_squared_error(y_test, pred))\n",
        "print('RMSE:', np.sqrt(metrics.mean_squared_error(y_test, pred)))\n",
        "print('R2:', metrics.r2_score(y_test, pred))"
      ],
      "execution_count": null,
      "outputs": [
        {
          "output_type": "stream",
          "text": [
            "MAE: 142.35331978319786\n",
            "MSE: 32233.922846476406\n",
            "RMSE: 179.5380818836951\n",
            "R2: 0.10853404498502639\n"
          ],
          "name": "stdout"
        }
      ]
    },
    {
      "cell_type": "code",
      "metadata": {
        "colab": {
          "base_uri": "https://localhost:8080/"
        },
        "id": "0UNMBrs3onWH",
        "outputId": "4a3b18f7-9f61-4ac5-b6b3-8468281327dd"
      },
      "source": [
        "knn = gridknn.best_estimator_ #usa o melhor modelo encontrado pelo gridsearchcv\n",
        "cross_validation_knn = runregression(base_tratada.drop(columns={'Fees'}), base_tratada['Fees'], knn, cv = 10)\n",
        "cross_validation_knn.mostraresultadomedio()"
      ],
      "execution_count": null,
      "outputs": [
        {
          "output_type": "stream",
          "text": [
            "validação cruzada com 10 folds\n",
            "MAE: 141.52 +- 2.36\n",
            "MSE: 31606.63 +- 992.23\n",
            "RMSE: 177.76 +- 2.80\n",
            "R2: 0.13 +- 0.03\n"
          ],
          "name": "stdout"
        }
      ]
    },
    {
      "cell_type": "markdown",
      "metadata": {
        "id": "R3QbhBrYJqZj"
      },
      "source": [
        "### SVM regressor\n",
        "\n",
        "Na regressão, o SVM busca pelo hiperplano que se ajuste aos dados, tentando maximizar a margem, **evitando que o modelo fique superajustado aos dados de treino**"
      ]
    },
    {
      "cell_type": "markdown",
      "metadata": {
        "id": "F-_7TkEF_42k"
      },
      "source": [
        "#### Escolha dos melhores parâmetros com GridSearchCV\n"
      ]
    },
    {
      "cell_type": "code",
      "metadata": {
        "colab": {
          "base_uri": "https://localhost:8080/"
        },
        "id": "ut-xei-A_01I",
        "outputId": "abcdcfe7-fddf-4a9e-a502-5f249ee2f8ee"
      },
      "source": [
        "from sklearn.svm import SVR\n",
        "\n",
        "param_grid_svm = {\n",
        "    'C': [1, 10, 100], \n",
        "    'gamma': ['auto', 'scale'], \n",
        "    'kernel': ['rbf', 'sigmoid']\n",
        "} \n",
        "gridsvm = GridSearchCV(SVR(),param_grid_svm, verbose = 3)\n",
        "gridsvm.fit(X_train,y_train)"
      ],
      "execution_count": null,
      "outputs": [
        {
          "output_type": "stream",
          "text": [
            "Fitting 5 folds for each of 12 candidates, totalling 60 fits\n",
            "[CV] C=1, gamma=auto, kernel=rbf .....................................\n"
          ],
          "name": "stdout"
        },
        {
          "output_type": "stream",
          "text": [
            "[Parallel(n_jobs=1)]: Using backend SequentialBackend with 1 concurrent workers.\n"
          ],
          "name": "stderr"
        },
        {
          "output_type": "stream",
          "text": [
            "[CV] ......... C=1, gamma=auto, kernel=rbf, score=0.010, total=   1.0s\n",
            "[CV] C=1, gamma=auto, kernel=rbf .....................................\n"
          ],
          "name": "stdout"
        },
        {
          "output_type": "stream",
          "text": [
            "[Parallel(n_jobs=1)]: Done   1 out of   1 | elapsed:    1.0s remaining:    0.0s\n"
          ],
          "name": "stderr"
        },
        {
          "output_type": "stream",
          "text": [
            "[CV] ........ C=1, gamma=auto, kernel=rbf, score=-0.009, total=   1.0s\n",
            "[CV] C=1, gamma=auto, kernel=rbf .....................................\n"
          ],
          "name": "stdout"
        },
        {
          "output_type": "stream",
          "text": [
            "[Parallel(n_jobs=1)]: Done   2 out of   2 | elapsed:    2.0s remaining:    0.0s\n"
          ],
          "name": "stderr"
        },
        {
          "output_type": "stream",
          "text": [
            "[CV] ......... C=1, gamma=auto, kernel=rbf, score=0.017, total=   1.0s\n",
            "[CV] C=1, gamma=auto, kernel=rbf .....................................\n",
            "[CV] ......... C=1, gamma=auto, kernel=rbf, score=0.014, total=   1.0s\n",
            "[CV] C=1, gamma=auto, kernel=rbf .....................................\n",
            "[CV] ......... C=1, gamma=auto, kernel=rbf, score=0.029, total=   1.0s\n",
            "[CV] C=1, gamma=auto, kernel=sigmoid .................................\n",
            "[CV] .... C=1, gamma=auto, kernel=sigmoid, score=-0.028, total=   1.0s\n",
            "[CV] C=1, gamma=auto, kernel=sigmoid .................................\n",
            "[CV] .... C=1, gamma=auto, kernel=sigmoid, score=-0.112, total=   1.0s\n",
            "[CV] C=1, gamma=auto, kernel=sigmoid .................................\n",
            "[CV] .... C=1, gamma=auto, kernel=sigmoid, score=-0.026, total=   1.0s\n",
            "[CV] C=1, gamma=auto, kernel=sigmoid .................................\n",
            "[CV] .... C=1, gamma=auto, kernel=sigmoid, score=-0.008, total=   1.0s\n",
            "[CV] C=1, gamma=auto, kernel=sigmoid .................................\n",
            "[CV] .... C=1, gamma=auto, kernel=sigmoid, score=-0.012, total=   1.0s\n",
            "[CV] C=1, gamma=scale, kernel=rbf ....................................\n",
            "[CV] ....... C=1, gamma=scale, kernel=rbf, score=-0.012, total=   1.0s\n",
            "[CV] C=1, gamma=scale, kernel=rbf ....................................\n",
            "[CV] ....... C=1, gamma=scale, kernel=rbf, score=-0.027, total=   1.0s\n",
            "[CV] C=1, gamma=scale, kernel=rbf ....................................\n",
            "[CV] ....... C=1, gamma=scale, kernel=rbf, score=-0.004, total=   1.0s\n",
            "[CV] C=1, gamma=scale, kernel=rbf ....................................\n",
            "[CV] ....... C=1, gamma=scale, kernel=rbf, score=-0.005, total=   1.0s\n",
            "[CV] C=1, gamma=scale, kernel=rbf ....................................\n",
            "[CV] ........ C=1, gamma=scale, kernel=rbf, score=0.013, total=   1.0s\n",
            "[CV] C=1, gamma=scale, kernel=sigmoid ................................\n",
            "[CV] ... C=1, gamma=scale, kernel=sigmoid, score=-0.087, total=   1.1s\n",
            "[CV] C=1, gamma=scale, kernel=sigmoid ................................\n",
            "[CV] ... C=1, gamma=scale, kernel=sigmoid, score=-0.089, total=   1.1s\n",
            "[CV] C=1, gamma=scale, kernel=sigmoid ................................\n",
            "[CV] ... C=1, gamma=scale, kernel=sigmoid, score=-0.074, total=   1.1s\n",
            "[CV] C=1, gamma=scale, kernel=sigmoid ................................\n",
            "[CV] ... C=1, gamma=scale, kernel=sigmoid, score=-0.045, total=   1.1s\n",
            "[CV] C=1, gamma=scale, kernel=sigmoid ................................\n",
            "[CV] ... C=1, gamma=scale, kernel=sigmoid, score=-0.059, total=   1.1s\n",
            "[CV] C=10, gamma=auto, kernel=rbf ....................................\n",
            "[CV] ........ C=10, gamma=auto, kernel=rbf, score=0.061, total=   1.0s\n",
            "[CV] C=10, gamma=auto, kernel=rbf ....................................\n",
            "[CV] ........ C=10, gamma=auto, kernel=rbf, score=0.037, total=   1.0s\n",
            "[CV] C=10, gamma=auto, kernel=rbf ....................................\n",
            "[CV] ........ C=10, gamma=auto, kernel=rbf, score=0.069, total=   1.0s\n",
            "[CV] C=10, gamma=auto, kernel=rbf ....................................\n",
            "[CV] ........ C=10, gamma=auto, kernel=rbf, score=0.075, total=   1.0s\n",
            "[CV] C=10, gamma=auto, kernel=rbf ....................................\n",
            "[CV] ........ C=10, gamma=auto, kernel=rbf, score=0.084, total=   1.0s\n",
            "[CV] C=10, gamma=auto, kernel=sigmoid ................................\n",
            "[CV] ... C=10, gamma=auto, kernel=sigmoid, score=-2.605, total=   1.0s\n",
            "[CV] C=10, gamma=auto, kernel=sigmoid ................................\n",
            "[CV] ... C=10, gamma=auto, kernel=sigmoid, score=-2.173, total=   1.0s\n",
            "[CV] C=10, gamma=auto, kernel=sigmoid ................................\n",
            "[CV] ... C=10, gamma=auto, kernel=sigmoid, score=-2.832, total=   1.0s\n",
            "[CV] C=10, gamma=auto, kernel=sigmoid ................................\n",
            "[CV] ... C=10, gamma=auto, kernel=sigmoid, score=-2.840, total=   1.0s\n",
            "[CV] C=10, gamma=auto, kernel=sigmoid ................................\n",
            "[CV] ... C=10, gamma=auto, kernel=sigmoid, score=-2.299, total=   1.0s\n",
            "[CV] C=10, gamma=scale, kernel=rbf ...................................\n",
            "[CV] ...... C=10, gamma=scale, kernel=rbf, score=-0.005, total=   1.0s\n",
            "[CV] C=10, gamma=scale, kernel=rbf ...................................\n",
            "[CV] ...... C=10, gamma=scale, kernel=rbf, score=-0.026, total=   1.0s\n",
            "[CV] C=10, gamma=scale, kernel=rbf ...................................\n",
            "[CV] ....... C=10, gamma=scale, kernel=rbf, score=0.008, total=   1.0s\n",
            "[CV] C=10, gamma=scale, kernel=rbf ...................................\n",
            "[CV] ....... C=10, gamma=scale, kernel=rbf, score=0.005, total=   1.0s\n",
            "[CV] C=10, gamma=scale, kernel=rbf ...................................\n",
            "[CV] ....... C=10, gamma=scale, kernel=rbf, score=0.030, total=   1.0s\n",
            "[CV] C=10, gamma=scale, kernel=sigmoid ...............................\n",
            "[CV] . C=10, gamma=scale, kernel=sigmoid, score=-29.988, total=   1.1s\n",
            "[CV] C=10, gamma=scale, kernel=sigmoid ...............................\n",
            "[CV] . C=10, gamma=scale, kernel=sigmoid, score=-27.099, total=   1.1s\n",
            "[CV] C=10, gamma=scale, kernel=sigmoid ...............................\n",
            "[CV] . C=10, gamma=scale, kernel=sigmoid, score=-26.388, total=   1.1s\n",
            "[CV] C=10, gamma=scale, kernel=sigmoid ...............................\n",
            "[CV] . C=10, gamma=scale, kernel=sigmoid, score=-27.946, total=   1.1s\n",
            "[CV] C=10, gamma=scale, kernel=sigmoid ...............................\n",
            "[CV] . C=10, gamma=scale, kernel=sigmoid, score=-29.450, total=   1.1s\n",
            "[CV] C=100, gamma=auto, kernel=rbf ...................................\n",
            "[CV] ....... C=100, gamma=auto, kernel=rbf, score=0.140, total=   1.0s\n",
            "[CV] C=100, gamma=auto, kernel=rbf ...................................\n",
            "[CV] ....... C=100, gamma=auto, kernel=rbf, score=0.104, total=   1.0s\n",
            "[CV] C=100, gamma=auto, kernel=rbf ...................................\n",
            "[CV] ....... C=100, gamma=auto, kernel=rbf, score=0.139, total=   1.1s\n",
            "[CV] C=100, gamma=auto, kernel=rbf ...................................\n",
            "[CV] ....... C=100, gamma=auto, kernel=rbf, score=0.140, total=   1.0s\n",
            "[CV] C=100, gamma=auto, kernel=rbf ...................................\n",
            "[CV] ....... C=100, gamma=auto, kernel=rbf, score=0.109, total=   1.1s\n",
            "[CV] C=100, gamma=auto, kernel=sigmoid ...............................\n",
            "[CV]  C=100, gamma=auto, kernel=sigmoid, score=-555.447, total=   1.0s\n",
            "[CV] C=100, gamma=auto, kernel=sigmoid ...............................\n",
            "[CV]  C=100, gamma=auto, kernel=sigmoid, score=-407.288, total=   1.0s\n",
            "[CV] C=100, gamma=auto, kernel=sigmoid ...............................\n",
            "[CV]  C=100, gamma=auto, kernel=sigmoid, score=-612.409, total=   1.0s\n",
            "[CV] C=100, gamma=auto, kernel=sigmoid ...............................\n",
            "[CV]  C=100, gamma=auto, kernel=sigmoid, score=-635.654, total=   1.0s\n",
            "[CV] C=100, gamma=auto, kernel=sigmoid ...............................\n",
            "[CV]  C=100, gamma=auto, kernel=sigmoid, score=-455.827, total=   1.0s\n",
            "[CV] C=100, gamma=scale, kernel=rbf ..................................\n",
            "[CV] ...... C=100, gamma=scale, kernel=rbf, score=0.076, total=   1.0s\n",
            "[CV] C=100, gamma=scale, kernel=rbf ..................................\n",
            "[CV] ...... C=100, gamma=scale, kernel=rbf, score=0.064, total=   1.0s\n",
            "[CV] C=100, gamma=scale, kernel=rbf ..................................\n",
            "[CV] ...... C=100, gamma=scale, kernel=rbf, score=0.095, total=   1.0s\n",
            "[CV] C=100, gamma=scale, kernel=rbf ..................................\n",
            "[CV] ...... C=100, gamma=scale, kernel=rbf, score=0.083, total=   1.0s\n",
            "[CV] C=100, gamma=scale, kernel=rbf ..................................\n",
            "[CV] ...... C=100, gamma=scale, kernel=rbf, score=0.095, total=   1.0s\n",
            "[CV] C=100, gamma=scale, kernel=sigmoid ..............................\n",
            "[CV]  C=100, gamma=scale, kernel=sigmoid, score=-3020.384, total=   1.1s\n",
            "[CV] C=100, gamma=scale, kernel=sigmoid ..............................\n",
            "[CV]  C=100, gamma=scale, kernel=sigmoid, score=-2801.220, total=   1.1s\n",
            "[CV] C=100, gamma=scale, kernel=sigmoid ..............................\n",
            "[CV]  C=100, gamma=scale, kernel=sigmoid, score=-2668.360, total=   1.1s\n",
            "[CV] C=100, gamma=scale, kernel=sigmoid ..............................\n",
            "[CV]  C=100, gamma=scale, kernel=sigmoid, score=-2856.571, total=   1.1s\n",
            "[CV] C=100, gamma=scale, kernel=sigmoid ..............................\n",
            "[CV]  C=100, gamma=scale, kernel=sigmoid, score=-2980.257, total=   1.1s\n"
          ],
          "name": "stdout"
        },
        {
          "output_type": "stream",
          "text": [
            "[Parallel(n_jobs=1)]: Done  60 out of  60 | elapsed:  1.0min finished\n"
          ],
          "name": "stderr"
        },
        {
          "output_type": "execute_result",
          "data": {
            "text/plain": [
              "GridSearchCV(cv=None, error_score=nan,\n",
              "             estimator=SVR(C=1.0, cache_size=200, coef0=0.0, degree=3,\n",
              "                           epsilon=0.1, gamma='scale', kernel='rbf',\n",
              "                           max_iter=-1, shrinking=True, tol=0.001,\n",
              "                           verbose=False),\n",
              "             iid='deprecated', n_jobs=None,\n",
              "             param_grid={'C': [1, 10, 100], 'gamma': ['auto', 'scale'],\n",
              "                         'kernel': ['rbf', 'sigmoid']},\n",
              "             pre_dispatch='2*n_jobs', refit=True, return_train_score=False,\n",
              "             scoring=None, verbose=3)"
            ]
          },
          "metadata": {
            "tags": []
          },
          "execution_count": 9
        }
      ]
    },
    {
      "cell_type": "code",
      "metadata": {
        "colab": {
          "base_uri": "https://localhost:8080/"
        },
        "id": "JkA8nSLJAEpp",
        "outputId": "791ee3dd-25ce-4db4-db53-729f442e7f07"
      },
      "source": [
        "gridsvm.best_params_"
      ],
      "execution_count": null,
      "outputs": [
        {
          "output_type": "execute_result",
          "data": {
            "text/plain": [
              "{'C': 100, 'gamma': 'auto', 'kernel': 'rbf'}"
            ]
          },
          "metadata": {
            "tags": []
          },
          "execution_count": 10
        }
      ]
    },
    {
      "cell_type": "markdown",
      "metadata": {
        "id": "CPaEvTOJAGFD"
      },
      "source": [
        "### Escolha do melhores parâmetros para o SVM"
      ]
    },
    {
      "cell_type": "code",
      "metadata": {
        "colab": {
          "base_uri": "https://localhost:8080/"
        },
        "id": "EgH7rQhZANOq",
        "outputId": "d834d217-0ee1-45cd-cecf-4f293d6ab9d7"
      },
      "source": [
        "pred = gridsvm.predict(X_test)\n",
        "\n",
        "print('MAE:', metrics.mean_absolute_error(y_test, pred))\n",
        "print('MSE:', metrics.mean_squared_error(y_test, pred))\n",
        "print('RMSE:', np.sqrt(metrics.mean_squared_error(y_test, pred)))\n",
        "print('R2:', metrics.r2_score(y_test, pred))"
      ],
      "execution_count": null,
      "outputs": [
        {
          "output_type": "stream",
          "text": [
            "MAE: 137.00707240979554\n",
            "MSE: 32858.15315037703\n",
            "RMSE: 181.26818019271067\n",
            "R2: 0.09018587368157249\n"
          ],
          "name": "stdout"
        }
      ]
    },
    {
      "cell_type": "markdown",
      "metadata": {
        "id": "-x0E_aAHAVjv"
      },
      "source": [
        "### Validação Cruzada com runregression para o SVM"
      ]
    },
    {
      "cell_type": "code",
      "metadata": {
        "colab": {
          "base_uri": "https://localhost:8080/"
        },
        "id": "DRe7Raw3AVRA",
        "outputId": "449cc47e-157e-4813-cd37-eb304b098a3d"
      },
      "source": [
        "svm = gridsvm.best_estimator_ #usa o melhor modelo encontrado pelo gridsearchcv\n",
        "cross_validation_svm = runregression(base_tratada.drop(columns={'Fees'}), base_tratada['Fees'], svm, cv = 10)\n",
        "cross_validation_svm.mostraresultadomedio()"
      ],
      "execution_count": null,
      "outputs": [
        {
          "output_type": "stream",
          "text": [
            "validação cruzada com 10 folds\n",
            "MAE: 134.18 +- 4.46\n",
            "MSE: 31548.45 +- 1782.65\n",
            "RMSE: 177.55 +- 5.05\n",
            "R2: 0.13 +- 0.04\n"
          ],
          "name": "stdout"
        }
      ]
    },
    {
      "cell_type": "markdown",
      "metadata": {
        "id": "ZdWB7UgkAy0D"
      },
      "source": [
        "### MLP regressor"
      ]
    },
    {
      "cell_type": "markdown",
      "metadata": {
        "id": "MmUrPLQmA0Bg"
      },
      "source": [
        "####Escolha dos melhores parâmetros com GridSearchCV\n"
      ]
    },
    {
      "cell_type": "code",
      "metadata": {
        "colab": {
          "base_uri": "https://localhost:8080/"
        },
        "id": "zFhPYnWmA3ng",
        "outputId": "3541abf9-c428-46f9-fc6c-9c6d9d11b7ec"
      },
      "source": [
        "from sklearn.neural_network import MLPRegressor\n",
        "\n",
        "param_grid_mlp = {\n",
        "    'hidden_layer_sizes': [(100, ), (13,)], #default e heurístico\n",
        "    'activation': ['identity', 'logistic', 'tanh', 'relu'],\n",
        "    'learning_rate_init': [0.001, 0.01, 0.1],\n",
        "    'max_iter': [5000, 10000]\n",
        "}\n",
        "\n",
        "gridmlp = GridSearchCV(MLPRegressor(),param_grid_mlp, verbose = 1)\n",
        "gridmlp.fit(X_train,y_train)"
      ],
      "execution_count": null,
      "outputs": [
        {
          "output_type": "stream",
          "text": [
            "Fitting 5 folds for each of 48 candidates, totalling 240 fits\n"
          ],
          "name": "stdout"
        },
        {
          "output_type": "stream",
          "text": [
            "[Parallel(n_jobs=1)]: Using backend SequentialBackend with 1 concurrent workers.\n",
            "/usr/local/lib/python3.7/dist-packages/sklearn/neural_network/_multilayer_perceptron.py:571: ConvergenceWarning: Stochastic Optimizer: Maximum iterations (5000) reached and the optimization hasn't converged yet.\n",
            "  % self.max_iter, ConvergenceWarning)\n",
            "/usr/local/lib/python3.7/dist-packages/sklearn/neural_network/_multilayer_perceptron.py:571: ConvergenceWarning: Stochastic Optimizer: Maximum iterations (5000) reached and the optimization hasn't converged yet.\n",
            "  % self.max_iter, ConvergenceWarning)\n",
            "/usr/local/lib/python3.7/dist-packages/sklearn/neural_network/_multilayer_perceptron.py:571: ConvergenceWarning: Stochastic Optimizer: Maximum iterations (5000) reached and the optimization hasn't converged yet.\n",
            "  % self.max_iter, ConvergenceWarning)\n",
            "/usr/local/lib/python3.7/dist-packages/sklearn/neural_network/_multilayer_perceptron.py:571: ConvergenceWarning: Stochastic Optimizer: Maximum iterations (5000) reached and the optimization hasn't converged yet.\n",
            "  % self.max_iter, ConvergenceWarning)\n",
            "[Parallel(n_jobs=1)]: Done 240 out of 240 | elapsed: 35.6min finished\n"
          ],
          "name": "stderr"
        },
        {
          "output_type": "execute_result",
          "data": {
            "text/plain": [
              "GridSearchCV(cv=None, error_score=nan,\n",
              "             estimator=MLPRegressor(activation='relu', alpha=0.0001,\n",
              "                                    batch_size='auto', beta_1=0.9, beta_2=0.999,\n",
              "                                    early_stopping=False, epsilon=1e-08,\n",
              "                                    hidden_layer_sizes=(100,),\n",
              "                                    learning_rate='constant',\n",
              "                                    learning_rate_init=0.001, max_fun=15000,\n",
              "                                    max_iter=200, momentum=0.9,\n",
              "                                    n_iter_no_change=10,\n",
              "                                    nesterovs_momentum=True, power_t=0.5,\n",
              "                                    random_sta...\n",
              "                                    solver='adam', tol=0.0001,\n",
              "                                    validation_fraction=0.1, verbose=False,\n",
              "                                    warm_start=False),\n",
              "             iid='deprecated', n_jobs=None,\n",
              "             param_grid={'activation': ['identity', 'logistic', 'tanh', 'relu'],\n",
              "                         'hidden_layer_sizes': [(100,), (13,)],\n",
              "                         'learning_rate_init': [0.001, 0.01, 0.1],\n",
              "                         'max_iter': [5000, 10000]},\n",
              "             pre_dispatch='2*n_jobs', refit=True, return_train_score=False,\n",
              "             scoring=None, verbose=1)"
            ]
          },
          "metadata": {
            "tags": []
          },
          "execution_count": 13
        }
      ]
    },
    {
      "cell_type": "markdown",
      "metadata": {
        "id": "_wGrnE8bBbdM"
      },
      "source": [
        "#### Teste com os melhores parâmetros\n",
        "\n",
        "\n"
      ]
    },
    {
      "cell_type": "code",
      "metadata": {
        "colab": {
          "base_uri": "https://localhost:8080/"
        },
        "id": "59eeyrRDBffD",
        "outputId": "240f9255-7916-48ab-dc67-f103d8039895"
      },
      "source": [
        "pred = gridmlp.predict(X_test)\n",
        "\n",
        "print('MAE:', metrics.mean_absolute_error(y_test, pred))\n",
        "print('MSE:', metrics.mean_squared_error(y_test, pred))\n",
        "print('RMSE:', np.sqrt(metrics.mean_squared_error(y_test, pred)))\n",
        "print('R2:', metrics.r2_score(y_test, pred))"
      ],
      "execution_count": null,
      "outputs": [
        {
          "output_type": "stream",
          "text": [
            "MAE: 135.42182666291123\n",
            "MSE: 30100.930266776024\n",
            "RMSE: 173.49619669253855\n",
            "R2: 0.16752439115414974\n"
          ],
          "name": "stdout"
        }
      ]
    },
    {
      "cell_type": "markdown",
      "metadata": {
        "id": "D_jZu0nSBi_F"
      },
      "source": [
        "### Validação Cruzada com runregression para o MLP"
      ]
    },
    {
      "cell_type": "code",
      "metadata": {
        "colab": {
          "base_uri": "https://localhost:8080/"
        },
        "id": "TyCnX7XMA7VC",
        "outputId": "5fa6dd74-ea47-4f89-d647-be33adfe38fb"
      },
      "source": [
        "mlp = gridmlp.best_estimator_ #usa o melhor modelo encontrado pelo gridsearchcv\n",
        "cross_validation_mlp = runregression(base_tratada.drop(columns={'Fees'}), base_tratada['Fees'], mlp, cv = 10)\n",
        "cross_validation_mlp.mostraresultadomedio()"
      ],
      "execution_count": null,
      "outputs": [
        {
          "output_type": "stream",
          "text": [
            "validação cruzada com 10 folds\n",
            "MAE: 135.47 +- 4.18\n",
            "MSE: 29749.61 +- 1863.60\n",
            "RMSE: 172.40 +- 5.40\n",
            "R2: 0.18 +- 0.02\n"
          ],
          "name": "stdout"
        }
      ]
    },
    {
      "cell_type": "markdown",
      "metadata": {
        "id": "bilpXHFhKkXa"
      },
      "source": [
        "#Conclusão"
      ]
    },
    {
      "cell_type": "code",
      "metadata": {
        "colab": {
          "base_uri": "https://localhost:8080/",
          "height": 286
        },
        "id": "0Y_LhjPMHop4",
        "outputId": "d9e34158-47e4-4204-b028-9abb80b0d20b"
      },
      "source": [
        ""
      ],
      "execution_count": 53,
      "outputs": [
        {
          "output_type": "execute_result",
          "data": {
            "text/plain": [
              "<matplotlib.axes._subplots.AxesSubplot at 0x7f5169e488d0>"
            ]
          },
          "metadata": {
            "tags": []
          },
          "execution_count": 53
        },
        {
          "output_type": "display_data",
          "data": {
            "image/png": "[encoded data removed]",
            "text/plain": [
              "<Figure size 432x288 with 2 Axes>"
            ]
          },
          "metadata": {
            "tags": [],
            "needs_background": "light"
          }
        }
      ]
    },
    {
      "cell_type": "code",
      "metadata": {
        "colab": {
          "base_uri": "https://localhost:8080/",
          "height": 282
        },
        "id": "_qvJ_ZwA_f9k",
        "outputId": "5917df6f-d21f-4b6b-af44-8bd4d5cc0408"
      },
      "source": [
        "import matplotlib.pyplot as plt\n",
        "plt.scatter(dff['Fees'], predictedCV)"
      ],
      "execution_count": 28,
      "outputs": [
        {
          "output_type": "execute_result",
          "data": {
            "text/plain": [
              "<matplotlib.collections.PathCollection at 0x7f516ac14610>"
            ]
          },
          "metadata": {
            "tags": []
          },
          "execution_count": 28
        },
        {
          "output_type": "display_data",
          "data": {
            "image/png": "[encoded data removed]",
            "text/plain": [
              "<Figure size 432x288 with 1 Axes>"
            ]
          },
          "metadata": {
            "tags": [],
            "needs_background": "light"
          }
        }
      ]
    },
    {
      "cell_type": "code",
      "metadata": {
        "colab": {
          "base_uri": "https://localhost:8080/",
          "height": 202
        },
        "id": "2dQbklziEPSS",
        "outputId": "5ce49b62-c097-4183-834f-06105849af87"
      },
      "source": [
        "consultas_aux2 = consultas_aux.join(new_places, )\n",
        "consultas_aux2.head()"
      ],
      "execution_count": 42,
      "outputs": [
        {
          "output_type": "execute_result",
          "data": {
            "text/html": [
              "<div>\n",
              "<style scoped>\n",
              "    .dataframe tbody tr th:only-of-type {\n",
              "        vertical-align: middle;\n",
              "    }\n",
              "\n",
              "    .dataframe tbody tr th {\n",
              "        vertical-align: top;\n",
              "    }\n",
              "\n",
              "    .dataframe thead th {\n",
              "        text-align: right;\n",
              "    }\n",
              "</style>\n",
              "<table border=\"1\" class=\"dataframe\">\n",
              "  <thead>\n",
              "    <tr style=\"text-align: right;\">\n",
              "      <th></th>\n",
              "      <th>Experience</th>\n",
              "      <th>Profile</th>\n",
              "      <th>Fees</th>\n",
              "      <th>Place</th>\n",
              "    </tr>\n",
              "  </thead>\n",
              "  <tbody>\n",
              "    <tr>\n",
              "      <th>0</th>\n",
              "      <td>24</td>\n",
              "      <td>Homeopath</td>\n",
              "      <td>100</td>\n",
              "      <td>Ernakulam</td>\n",
              "    </tr>\n",
              "    <tr>\n",
              "      <th>1</th>\n",
              "      <td>12</td>\n",
              "      <td>Ayurveda</td>\n",
              "      <td>350</td>\n",
              "      <td>Bangalore</td>\n",
              "    </tr>\n",
              "    <tr>\n",
              "      <th>2</th>\n",
              "      <td>9</td>\n",
              "      <td>ENT Specialist</td>\n",
              "      <td>300</td>\n",
              "      <td>Bangalore</td>\n",
              "    </tr>\n",
              "    <tr>\n",
              "      <th>3</th>\n",
              "      <td>12</td>\n",
              "      <td>Ayurveda</td>\n",
              "      <td>250</td>\n",
              "      <td>Bangalore</td>\n",
              "    </tr>\n",
              "    <tr>\n",
              "      <th>4</th>\n",
              "      <td>20</td>\n",
              "      <td>Ayurveda</td>\n",
              "      <td>250</td>\n",
              "      <td>Chennai</td>\n",
              "    </tr>\n",
              "  </tbody>\n",
              "</table>\n",
              "</div>"
            ],
            "text/plain": [
              "   Experience         Profile  Fees      Place\n",
              "0          24       Homeopath   100  Ernakulam\n",
              "1          12        Ayurveda   350  Bangalore\n",
              "2           9  ENT Specialist   300  Bangalore\n",
              "3          12        Ayurveda   250  Bangalore\n",
              "4          20        Ayurveda   250    Chennai"
            ]
          },
          "metadata": {
            "tags": []
          },
          "execution_count": 42
        }
      ]
    },
    {
      "cell_type": "code",
      "metadata": {
        "colab": {
          "base_uri": "https://localhost:8080/",
          "height": 414
        },
        "id": "PNT8RIKsG0N5",
        "outputId": "c37e8fec-aeeb-4a7c-9a29-91598331ebdb"
      },
      "source": [
        "consultas_aux2"
      ],
      "execution_count": 47,
      "outputs": [
        {
          "output_type": "execute_result",
          "data": {
            "text/html": [
              "<div>\n",
              "<style scoped>\n",
              "    .dataframe tbody tr th:only-of-type {\n",
              "        vertical-align: middle;\n",
              "    }\n",
              "\n",
              "    .dataframe tbody tr th {\n",
              "        vertical-align: top;\n",
              "    }\n",
              "\n",
              "    .dataframe thead th {\n",
              "        text-align: right;\n",
              "    }\n",
              "</style>\n",
              "<table border=\"1\" class=\"dataframe\">\n",
              "  <thead>\n",
              "    <tr style=\"text-align: right;\">\n",
              "      <th></th>\n",
              "      <th>Experience</th>\n",
              "      <th>Profile</th>\n",
              "      <th>Fees</th>\n",
              "      <th>Place</th>\n",
              "    </tr>\n",
              "  </thead>\n",
              "  <tbody>\n",
              "    <tr>\n",
              "      <th>0</th>\n",
              "      <td>24</td>\n",
              "      <td>5</td>\n",
              "      <td>100</td>\n",
              "      <td>4</td>\n",
              "    </tr>\n",
              "    <tr>\n",
              "      <th>1</th>\n",
              "      <td>12</td>\n",
              "      <td>0</td>\n",
              "      <td>350</td>\n",
              "      <td>0</td>\n",
              "    </tr>\n",
              "    <tr>\n",
              "      <th>2</th>\n",
              "      <td>9</td>\n",
              "      <td>3</td>\n",
              "      <td>300</td>\n",
              "      <td>0</td>\n",
              "    </tr>\n",
              "    <tr>\n",
              "      <th>3</th>\n",
              "      <td>12</td>\n",
              "      <td>0</td>\n",
              "      <td>250</td>\n",
              "      <td>0</td>\n",
              "    </tr>\n",
              "    <tr>\n",
              "      <th>4</th>\n",
              "      <td>20</td>\n",
              "      <td>0</td>\n",
              "      <td>250</td>\n",
              "      <td>1</td>\n",
              "    </tr>\n",
              "    <tr>\n",
              "      <th>...</th>\n",
              "      <td>...</td>\n",
              "      <td>...</td>\n",
              "      <td>...</td>\n",
              "      <td>...</td>\n",
              "    </tr>\n",
              "    <tr>\n",
              "      <th>5956</th>\n",
              "      <td>19</td>\n",
              "      <td>3</td>\n",
              "      <td>300</td>\n",
              "      <td>0</td>\n",
              "    </tr>\n",
              "    <tr>\n",
              "      <th>5957</th>\n",
              "      <td>33</td>\n",
              "      <td>4</td>\n",
              "      <td>100</td>\n",
              "      <td>1</td>\n",
              "    </tr>\n",
              "    <tr>\n",
              "      <th>5958</th>\n",
              "      <td>41</td>\n",
              "      <td>4</td>\n",
              "      <td>600</td>\n",
              "      <td>3</td>\n",
              "    </tr>\n",
              "    <tr>\n",
              "      <th>5959</th>\n",
              "      <td>15</td>\n",
              "      <td>4</td>\n",
              "      <td>100</td>\n",
              "      <td>6</td>\n",
              "    </tr>\n",
              "    <tr>\n",
              "      <th>5960</th>\n",
              "      <td>17</td>\n",
              "      <td>1</td>\n",
              "      <td>200</td>\n",
              "      <td>3</td>\n",
              "    </tr>\n",
              "  </tbody>\n",
              "</table>\n",
              "<p>5961 rows × 4 columns</p>\n",
              "</div>"
            ],
            "text/plain": [
              "      Experience  Profile  Fees  Place\n",
              "0             24        5   100      4\n",
              "1             12        0   350      0\n",
              "2              9        3   300      0\n",
              "3             12        0   250      0\n",
              "4             20        0   250      1\n",
              "...          ...      ...   ...    ...\n",
              "5956          19        3   300      0\n",
              "5957          33        4   100      1\n",
              "5958          41        4   600      3\n",
              "5959          15        4   100      6\n",
              "5960          17        1   200      3\n",
              "\n",
              "[5961 rows x 4 columns]"
            ]
          },
          "metadata": {
            "tags": []
          },
          "execution_count": 47
        }
      ]
    },
    {
      "cell_type": "code",
      "metadata": {
        "colab": {
          "base_uri": "https://localhost:8080/"
        },
        "id": "IWGYKDt8AjAD",
        "outputId": "64f48cfb-3820-4781-e236-5ada5be624eb"
      },
      "source": [
        "cross_validation_RL = runregression(dff.drop(columns={'Fees'}), dff['Fees'], LinearRegression(), cv = 10)\n",
        "cross_validation_RL.mostraresultadomedio()"
      ],
      "execution_count": 29,
      "outputs": [
        {
          "output_type": "stream",
          "text": [
            "validação cruzada com 10 folds\n",
            "MAE: 145.81 +- 3.29\n",
            "MSE: 32701.84 +- 1673.50\n",
            "RMSE: 180.78 +- 4.57\n",
            "R2: 0.10 +- 0.01\n"
          ],
          "name": "stdout"
        }
      ]
    }
  ]
}