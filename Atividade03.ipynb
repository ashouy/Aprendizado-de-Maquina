{
  "nbformat": 4,
  "nbformat_minor": 0,
  "metadata": {
    "colab": {
      "name": "Atividade03.ipynb",
      "provenance": [],
      "collapsed_sections": [],
      "authorship_tag": "ABX9TyPucnf+aVoj5LuZq5s3/f/x",
      "include_colab_link": true
    },
    "kernelspec": {
      "name": "python3",
      "display_name": "Python 3"
    },
    "language_info": {
      "name": "python"
    }
  },
  "cells": [
    {
      "cell_type": "markdown",
      "metadata": {
        "id": "view-in-github",
        "colab_type": "text"
      },
      "source": [
        "<a href=\"https://colab.research.google.com/github/ashouy/Aprendizado-de-Maquina/blob/main/Atividade03.ipynb\" target=\"_parent\"><img src=\"https://colab.research.google.com/assets/colab-badge.svg\" alt=\"Open In Colab\"/></a>"
      ]
    },
    {
      "cell_type": "markdown",
      "metadata": {
        "id": "9LtlTlqKmApM"
      },
      "source": [
        "## Atividade sobre mineração de regras de associação\n",
        "\n",
        "\n",
        "> Está tarefa é voltada para análise de imóveis a venda na cidade de Melbourne"
      ]
    },
    {
      "cell_type": "markdown",
      "metadata": {
        "id": "EDomiOU_mLlc"
      },
      "source": [
        "#### Informações sobre o dataset escolhido:\n",
        "\n",
        "> Link para base no kaggle: https://www.kaggle.com/anthonypino/melbourne-housing-market"
      ]
    },
    {
      "cell_type": "code",
      "metadata": {
        "colab": {
          "base_uri": "https://localhost:8080/",
          "height": 414
        },
        "id": "YeClxxvnl8lI",
        "outputId": "dc9cc509-3233-4b43-e963-753ffd1c491f"
      },
      "source": [
        "import pandas as pd\n",
        "import numpy as np\n",
        "\n",
        "houses = pd.read_csv('https://raw.githubusercontent.com/ashouy/Aprendizado-de-Maquina/main/bases/MELBOURNE_HOUSE_PRICES_LESS.csv')\n",
        "houses\n"
      ],
      "execution_count": 1,
      "outputs": [
        {
          "output_type": "execute_result",
          "data": {
            "text/html": [
              "<div>\n",
              "<style scoped>\n",
              "    .dataframe tbody tr th:only-of-type {\n",
              "        vertical-align: middle;\n",
              "    }\n",
              "\n",
              "    .dataframe tbody tr th {\n",
              "        vertical-align: top;\n",
              "    }\n",
              "\n",
              "    .dataframe thead th {\n",
              "        text-align: right;\n",
              "    }\n",
              "</style>\n",
              "<table border=\"1\" class=\"dataframe\">\n",
              "  <thead>\n",
              "    <tr style=\"text-align: right;\">\n",
              "      <th></th>\n",
              "      <th>Suburb</th>\n",
              "      <th>Address</th>\n",
              "      <th>Rooms</th>\n",
              "      <th>Type</th>\n",
              "      <th>Price</th>\n",
              "      <th>Method</th>\n",
              "      <th>SellerG</th>\n",
              "      <th>Date</th>\n",
              "      <th>Postcode</th>\n",
              "      <th>Regionname</th>\n",
              "      <th>Propertycount</th>\n",
              "      <th>Distance</th>\n",
              "      <th>CouncilArea</th>\n",
              "    </tr>\n",
              "  </thead>\n",
              "  <tbody>\n",
              "    <tr>\n",
              "      <th>0</th>\n",
              "      <td>Abbotsford</td>\n",
              "      <td>49 Lithgow St</td>\n",
              "      <td>3</td>\n",
              "      <td>h</td>\n",
              "      <td>1490000.0</td>\n",
              "      <td>S</td>\n",
              "      <td>Jellis</td>\n",
              "      <td>1/04/2017</td>\n",
              "      <td>3067</td>\n",
              "      <td>Northern Metropolitan</td>\n",
              "      <td>4019</td>\n",
              "      <td>3.0</td>\n",
              "      <td>Yarra City Council</td>\n",
              "    </tr>\n",
              "    <tr>\n",
              "      <th>1</th>\n",
              "      <td>Abbotsford</td>\n",
              "      <td>59A Turner St</td>\n",
              "      <td>3</td>\n",
              "      <td>h</td>\n",
              "      <td>1220000.0</td>\n",
              "      <td>S</td>\n",
              "      <td>Marshall</td>\n",
              "      <td>1/04/2017</td>\n",
              "      <td>3067</td>\n",
              "      <td>Northern Metropolitan</td>\n",
              "      <td>4019</td>\n",
              "      <td>3.0</td>\n",
              "      <td>Yarra City Council</td>\n",
              "    </tr>\n",
              "    <tr>\n",
              "      <th>2</th>\n",
              "      <td>Abbotsford</td>\n",
              "      <td>119B Yarra St</td>\n",
              "      <td>3</td>\n",
              "      <td>h</td>\n",
              "      <td>1420000.0</td>\n",
              "      <td>S</td>\n",
              "      <td>Nelson</td>\n",
              "      <td>1/04/2017</td>\n",
              "      <td>3067</td>\n",
              "      <td>Northern Metropolitan</td>\n",
              "      <td>4019</td>\n",
              "      <td>3.0</td>\n",
              "      <td>Yarra City Council</td>\n",
              "    </tr>\n",
              "    <tr>\n",
              "      <th>3</th>\n",
              "      <td>Aberfeldie</td>\n",
              "      <td>68 Vida St</td>\n",
              "      <td>3</td>\n",
              "      <td>h</td>\n",
              "      <td>1515000.0</td>\n",
              "      <td>S</td>\n",
              "      <td>Barry</td>\n",
              "      <td>1/04/2017</td>\n",
              "      <td>3040</td>\n",
              "      <td>Western Metropolitan</td>\n",
              "      <td>1543</td>\n",
              "      <td>7.5</td>\n",
              "      <td>Moonee Valley City Council</td>\n",
              "    </tr>\n",
              "    <tr>\n",
              "      <th>4</th>\n",
              "      <td>Airport West</td>\n",
              "      <td>92 Clydesdale Rd</td>\n",
              "      <td>2</td>\n",
              "      <td>h</td>\n",
              "      <td>670000.0</td>\n",
              "      <td>S</td>\n",
              "      <td>Nelson</td>\n",
              "      <td>1/04/2017</td>\n",
              "      <td>3042</td>\n",
              "      <td>Western Metropolitan</td>\n",
              "      <td>3464</td>\n",
              "      <td>10.4</td>\n",
              "      <td>Moonee Valley City Council</td>\n",
              "    </tr>\n",
              "    <tr>\n",
              "      <th>...</th>\n",
              "      <td>...</td>\n",
              "      <td>...</td>\n",
              "      <td>...</td>\n",
              "      <td>...</td>\n",
              "      <td>...</td>\n",
              "      <td>...</td>\n",
              "      <td>...</td>\n",
              "      <td>...</td>\n",
              "      <td>...</td>\n",
              "      <td>...</td>\n",
              "      <td>...</td>\n",
              "      <td>...</td>\n",
              "      <td>...</td>\n",
              "    </tr>\n",
              "    <tr>\n",
              "      <th>63018</th>\n",
              "      <td>Roxburgh Park</td>\n",
              "      <td>3 Carr Pl</td>\n",
              "      <td>3</td>\n",
              "      <td>h</td>\n",
              "      <td>566000.0</td>\n",
              "      <td>S</td>\n",
              "      <td>Raine</td>\n",
              "      <td>31/03/2018</td>\n",
              "      <td>3064</td>\n",
              "      <td>Northern Metropolitan</td>\n",
              "      <td>5833</td>\n",
              "      <td>20.6</td>\n",
              "      <td>Hume City Council</td>\n",
              "    </tr>\n",
              "    <tr>\n",
              "      <th>63019</th>\n",
              "      <td>Roxburgh Park</td>\n",
              "      <td>9 Parker Ct</td>\n",
              "      <td>3</td>\n",
              "      <td>h</td>\n",
              "      <td>500000.0</td>\n",
              "      <td>S</td>\n",
              "      <td>Raine</td>\n",
              "      <td>31/03/2018</td>\n",
              "      <td>3064</td>\n",
              "      <td>Northern Metropolitan</td>\n",
              "      <td>5833</td>\n",
              "      <td>20.6</td>\n",
              "      <td>Hume City Council</td>\n",
              "    </tr>\n",
              "    <tr>\n",
              "      <th>63020</th>\n",
              "      <td>Roxburgh Park</td>\n",
              "      <td>5 Parkinson Wy</td>\n",
              "      <td>3</td>\n",
              "      <td>h</td>\n",
              "      <td>545000.0</td>\n",
              "      <td>S</td>\n",
              "      <td>Raine</td>\n",
              "      <td>31/03/2018</td>\n",
              "      <td>3064</td>\n",
              "      <td>Northern Metropolitan</td>\n",
              "      <td>5833</td>\n",
              "      <td>20.6</td>\n",
              "      <td>Hume City Council</td>\n",
              "    </tr>\n",
              "    <tr>\n",
              "      <th>63021</th>\n",
              "      <td>Thomastown</td>\n",
              "      <td>3/1 Travers St</td>\n",
              "      <td>3</td>\n",
              "      <td>u</td>\n",
              "      <td>NaN</td>\n",
              "      <td>PI</td>\n",
              "      <td>Barry</td>\n",
              "      <td>31/03/2018</td>\n",
              "      <td>3074</td>\n",
              "      <td>Northern Metropolitan</td>\n",
              "      <td>7955</td>\n",
              "      <td>15.3</td>\n",
              "      <td>Whittlesea City Council</td>\n",
              "    </tr>\n",
              "    <tr>\n",
              "      <th>63022</th>\n",
              "      <td>Williams Landing</td>\n",
              "      <td>1 Diadem Wy</td>\n",
              "      <td>4</td>\n",
              "      <td>h</td>\n",
              "      <td>NaN</td>\n",
              "      <td>SP</td>\n",
              "      <td>Aussie</td>\n",
              "      <td>31/03/2018</td>\n",
              "      <td>3027</td>\n",
              "      <td>Western Metropolitan</td>\n",
              "      <td>1999</td>\n",
              "      <td>17.6</td>\n",
              "      <td>Wyndham City Council</td>\n",
              "    </tr>\n",
              "  </tbody>\n",
              "</table>\n",
              "<p>63023 rows × 13 columns</p>\n",
              "</div>"
            ],
            "text/plain": [
              "                 Suburb           Address  ...  Distance                 CouncilArea\n",
              "0            Abbotsford     49 Lithgow St  ...       3.0          Yarra City Council\n",
              "1            Abbotsford     59A Turner St  ...       3.0          Yarra City Council\n",
              "2            Abbotsford     119B Yarra St  ...       3.0          Yarra City Council\n",
              "3            Aberfeldie        68 Vida St  ...       7.5  Moonee Valley City Council\n",
              "4          Airport West  92 Clydesdale Rd  ...      10.4  Moonee Valley City Council\n",
              "...                 ...               ...  ...       ...                         ...\n",
              "63018     Roxburgh Park         3 Carr Pl  ...      20.6           Hume City Council\n",
              "63019     Roxburgh Park       9 Parker Ct  ...      20.6           Hume City Council\n",
              "63020     Roxburgh Park    5 Parkinson Wy  ...      20.6           Hume City Council\n",
              "63021        Thomastown    3/1 Travers St  ...      15.3     Whittlesea City Council\n",
              "63022  Williams Landing       1 Diadem Wy  ...      17.6        Wyndham City Council\n",
              "\n",
              "[63023 rows x 13 columns]"
            ]
          },
          "metadata": {},
          "execution_count": 1
        }
      ]
    },
    {
      "cell_type": "markdown",
      "metadata": {
        "id": "HmQB-8SUudEj"
      },
      "source": [
        "## Tratamento"
      ]
    },
    {
      "cell_type": "code",
      "metadata": {
        "id": "SuLSjXkipfsK"
      },
      "source": [
        "# Renomenar colunas e diminuir tamanho da base para testes\n",
        "houses2 = houses.head(33000)"
      ],
      "execution_count": 10,
      "outputs": []
    },
    {
      "cell_type": "code",
      "metadata": {
        "colab": {
          "base_uri": "https://localhost:8080/"
        },
        "id": "6FF8uiblvdcA",
        "outputId": "b96ece24-37c0-4135-993e-66b5f6016842"
      },
      "source": [
        "champs2.shape\n",
        "# 1000 transações ferente a veículos da tabela fipe "
      ],
      "execution_count": 11,
      "outputs": [
        {
          "output_type": "execute_result",
          "data": {
            "text/plain": [
              "(33000, 13)"
            ]
          },
          "metadata": {},
          "execution_count": 11
        }
      ]
    },
    {
      "cell_type": "code",
      "metadata": {
        "colab": {
          "base_uri": "https://localhost:8080/"
        },
        "id": "_AODBfbe7TD2",
        "outputId": "b0e0d261-88c1-43ba-9895-2046b200ed6d"
      },
      "source": [
        "#Transforma o dataframe em uma lista de listas (cada lista é uma transação)\n",
        "transactions = []\n",
        "for i in range(0, champs2.shape[0]):\n",
        "    transactions.append([str(champs2.values[i, j]) for j in range(0, 6)])\n",
        "\n",
        "print(transactions[1])"
      ],
      "execution_count": 12,
      "outputs": [
        {
          "output_type": "stream",
          "name": "stdout",
          "text": [
            "['Abbotsford', '59A Turner St', '3', 'h', '1220000.0', 'S']\n"
          ]
        }
      ]
    },
    {
      "cell_type": "code",
      "metadata": {
        "colab": {
          "base_uri": "https://localhost:8080/"
        },
        "id": "GeOsUaGe7eWM",
        "outputId": "fd52ef37-115b-465b-fed4-5de5f6ff276f"
      },
      "source": [
        "\n",
        "#remove os nan das listas\n",
        "for i in range(len(transactions)):\n",
        "  transactions[i] = [item for item in transactions[i] if str(item) != 'nan']  \n",
        "\n",
        "print(transactions[1])"
      ],
      "execution_count": 13,
      "outputs": [
        {
          "output_type": "stream",
          "name": "stdout",
          "text": [
            "['Abbotsford', '59A Turner St', '3', 'h', '1220000.0', 'S']\n"
          ]
        }
      ]
    },
    {
      "cell_type": "markdown",
      "metadata": {
        "id": "VKsKbOe_7ppj"
      },
      "source": [
        "## Aplicação do algoritmo apriori"
      ]
    },
    {
      "cell_type": "code",
      "metadata": {
        "colab": {
          "base_uri": "https://localhost:8080/"
        },
        "id": "OeYh2AlL7zkT",
        "outputId": "1f603627-4647-487b-b602-3118760b4d02"
      },
      "source": [
        "!pip install apyori\n"
      ],
      "execution_count": 14,
      "outputs": [
        {
          "output_type": "stream",
          "name": "stdout",
          "text": [
            "Requirement already satisfied: apyori in /usr/local/lib/python3.7/dist-packages (1.1.2)\n"
          ]
        }
      ]
    },
    {
      "cell_type": "code",
      "metadata": {
        "id": "C3Vy5QSg7tMX"
      },
      "source": [
        "from apyori import apriori\n",
        "rules = apriori(transactions, min_support = 0.003, min_confidence = 0.2, min_lift = 3, min_length = 2)"
      ],
      "execution_count": 15,
      "outputs": []
    },
    {
      "cell_type": "code",
      "metadata": {
        "colab": {
          "base_uri": "https://localhost:8080/"
        },
        "id": "7-lCw2_i782c",
        "outputId": "87148fae-2511-4988-8e99-cac67660af31"
      },
      "source": [
        "association_rules = list(rules) #transforma resultado em uma lista\n",
        "\n",
        "print(association_rules[0])"
      ],
      "execution_count": 16,
      "outputs": [
        {
          "output_type": "stream",
          "name": "stdout",
          "text": [
            "RelationRecord(items=frozenset({'u', '1'}), support=0.03278787878787879, ordered_statistics=[OrderedStatistic(items_base=frozenset({'1'}), items_add=frozenset({'u'}), confidence=0.9224211423699915, lift=4.912830487122291)])\n"
          ]
        }
      ]
    },
    {
      "cell_type": "code",
      "metadata": {
        "colab": {
          "base_uri": "https://localhost:8080/"
        },
        "id": "Co1HpX1Fd9qh",
        "outputId": "527de818-63ba-43f6-e0de-9bd802819c3e"
      },
      "source": [
        "\n",
        "#Mostra cada regra, com as informações de suporte, confiança e lift\n",
        "for item in association_rules:\n",
        "  # first index of the inner list\n",
        "  # Contains base item and add item\n",
        "  pair = item[0] \n",
        "  items = [x for x in pair]\n",
        "  print(\"Rule: \" + items[0] + \" -> \" + items[1])\n",
        "\n",
        "  #second index of the inner list\n",
        "  print(\"Support: \" + str(item[1])) \n",
        "\n",
        "  #third index of the list located at 0th\n",
        "  #of the third index of the inner list\n",
        "\n",
        "  print(\"Confidence: \" + str(item[2][0][2]))\n",
        "  print(\"Lift: \" + str(item[2][0][3]))\n",
        "  print(\"=====================================\") "
      ],
      "execution_count": 17,
      "outputs": [
        {
          "output_type": "stream",
          "name": "stdout",
          "text": [
            "Rule: u -> 1\n",
            "Support: 0.03278787878787879\n",
            "Confidence: 0.9224211423699915\n",
            "Lift: 4.912830487122291\n",
            "=====================================\n",
            "Rule: u -> Carnegie\n",
            "Support: 0.003575757575757576\n",
            "Confidence: 0.5870646766169154\n",
            "Lift: 3.1267163215555533\n",
            "=====================================\n",
            "Rule: u -> Elwood\n",
            "Support: 0.004484848484848485\n",
            "Confidence: 0.6607142857142857\n",
            "Lift: 3.5189753758185\n",
            "=====================================\n",
            "Rule: Hawthorn -> u\n",
            "Support: 0.005757575757575757\n",
            "Confidence: 0.5775075987841944\n",
            "Lift: 3.075815164602714\n",
            "=====================================\n",
            "Rule: u -> Melbourne\n",
            "Support: 0.005\n",
            "Confidence: 1.0\n",
            "Lift: 5.3260167850225955\n",
            "=====================================\n",
            "Rule: u -> South Yarra\n",
            "Support: 0.006484848484848485\n",
            "Confidence: 0.7062706270627063\n",
            "Lift: 3.761609214504407\n",
            "=====================================\n",
            "Rule: St Kilda -> u\n",
            "Support: 0.006242424242424242\n",
            "Confidence: 0.7773584905660377\n",
            "Lift: 4.140224368734545\n",
            "=====================================\n",
            "Rule: u -> Toorak\n",
            "Support: 0.0036363636363636364\n",
            "Confidence: 0.5882352941176471\n",
            "Lift: 3.1329510500132915\n",
            "=====================================\n",
            "Rule: u -> 1\n",
            "Support: 0.005636363636363636\n",
            "Confidence: 0.9441624365482234\n",
            "Lift: 5.028624984843669\n",
            "=====================================\n",
            "Rule: S -> u\n",
            "Support: 0.014181818181818183\n",
            "Confidence: 0.3989769820971867\n",
            "Lift: 4.163896397598722\n",
            "=====================================\n",
            "Rule: u -> SP\n",
            "Support: 0.006696969696969697\n",
            "Confidence: 0.9404255319148936\n",
            "Lift: 5.008722168042525\n",
            "=====================================\n",
            "Rule: u -> VB\n",
            "Support: 0.004121212121212121\n",
            "Confidence: 0.9315068493150684\n",
            "Lift: 4.961221114815568\n",
            "=====================================\n",
            "Rule: Hawthorn -> u\n",
            "Support: 0.0036363636363636364\n",
            "Confidence: 0.364741641337386\n",
            "Lift: 3.155039099379748\n",
            "=====================================\n",
            "Rule: u -> 2\n",
            "Support: 0.017727272727272727\n",
            "Confidence: 0.5945121951219512\n",
            "Lift: 3.1663819301201404\n",
            "=====================================\n",
            "Rule: Reservoir -> 2\n",
            "Support: 0.003\n",
            "Confidence: 0.66\n",
            "Lift: 3.0880476393024243\n",
            "=====================================\n",
            "Rule: u -> 2\n",
            "Support: 0.020606060606060607\n",
            "Confidence: 0.5782312925170068\n",
            "Lift: 3.079669569570888\n",
            "=====================================\n",
            "Rule: South Yarra -> u\n",
            "Support: 0.0034545454545454545\n",
            "Confidence: 0.37623762376237624\n",
            "Lift: 3.2544801006968327\n",
            "=====================================\n",
            "Rule: St Kilda -> 2\n",
            "Support: 0.003696969696969697\n",
            "Confidence: 0.46037735849056605\n",
            "Lift: 3.9822943198397587\n",
            "=====================================\n",
            "Rule: Hawthorn -> S\n",
            "Support: 0.0035454545454545456\n",
            "Confidence: 0.3556231003039514\n",
            "Lift: 3.7114365306863997\n",
            "=====================================\n",
            "Rule: S -> u\n",
            "Support: 0.003575757575757576\n",
            "Confidence: 0.3894389438943895\n",
            "Lift: 4.064353304400649\n",
            "=====================================\n"
          ]
        }
      ]
    },
    {
      "cell_type": "markdown",
      "metadata": {
        "id": "Hq5DPP0g7mZS"
      },
      "source": [
        ""
      ]
    },
    {
      "cell_type": "markdown",
      "metadata": {
        "id": "jLztMaDpvWvd"
      },
      "source": [
        ""
      ]
    }
  ]
}