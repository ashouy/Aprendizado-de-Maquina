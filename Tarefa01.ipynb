{
  "nbformat": 4,
  "nbformat_minor": 0,
  "metadata": {
    "colab": {
      "name": "Tarefa01.ipynb",
      "provenance": [],
      "collapsed_sections": [],
      "authorship_tag": "ABX9TyOEZJkEGcx0RMZaZV1Gigm6",
      "include_colab_link": true
    },
    "kernelspec": {
      "name": "python3",
      "display_name": "Python 3"
    },
    "language_info": {
      "name": "python"
    }
  },
  "cells": [
    {
      "cell_type": "markdown",
      "metadata": {
        "id": "view-in-github",
        "colab_type": "text"
      },
      "source": [
        "<a href=\"https://colab.research.google.com/github/ashouy/Aprendizado-de-Maquina/blob/main/Tarefa01.ipynb\" target=\"_parent\"><img src=\"https://colab.research.google.com/assets/colab-badge.svg\" alt=\"Open In Colab\"/></a>"
      ]
    },
    {
      "cell_type": "markdown",
      "metadata": {
        "id": "V82068dIEAcY"
      },
      "source": [
        "# **Atividade 01**\n",
        "A atividade consiste em selecionar uma base de dados do tipo **Regressão** e outra do tipo **Classificação** e aplicar pelo menos dois dos 6 tratamentos listados abaixo:\n",
        "\n",
        "\n",
        "1.   **Visão geral do data frame**\n",
        ">*   Aleterar a visualização do dataframe, selecionando colunas específicas por exemplo.\n",
        ">*   **loc, iloc, etc**\n",
        "2.   **Dados Faltantes**\n",
        ">*   Aplicar alguma estratégia para tratar os dados faltantes de a cordo com o contexto da base de dados.\n",
        ">*   **Remoção das colunas, Remoção das linhas, Preenchimento com um valor definido, Preenchimento com a média ou moda**\n",
        "3.    **Outliers**\n",
        ">*    Tratar valor muito fora dos padrões\n",
        "4.    **Mudança de escala**\n",
        ">*     mudar alguma série de escalar para uma possível comparação\n",
        ">*    **Normalização por reescala, normalização por padronização, StandardScaler, MinMaxScale**\n",
        "5.    **Mudança de Tipo**\n",
        ">*     Mudar o tipo de dados de uma coluna\n",
        ">*    **Label Encoder**\n",
        "6.    **Redução de dimensionalidade**\n",
        ">*    **PCA**\n",
        "\n",
        "\n",
        "\n",
        "\n"
      ]
    },
    {
      "cell_type": "markdown",
      "metadata": {
        "id": "c2ZtWNiMYLZ5"
      },
      "source": [
        "#Aternativas:\n",
        "\n",
        "\n",
        "*   https://www.kaggle.com/dannielr/marvel-superheroes\n",
        "\n",
        "*   https://www.kaggle.com/omermetinn/values-of-top-nasdaq-copanies-from-2010-to-2020\n",
        "* https://www.kaggle.com/sureshmecad/predict-a-doctors-consultation-fee\n",
        "\n",
        "\n"
      ]
    },
    {
      "cell_type": "markdown",
      "metadata": {
        "id": "n-Y67JkjHKFg"
      },
      "source": [
        "# Base para predição do custo de uma consulta médica\n",
        "\n",
        "> ## Metadata\n",
        "* O valor da consulta no final está em rúpia indiana IRN\n",
        "\n",
        "\n",
        "\n",
        "\n"
      ]
    },
    {
      "cell_type": "markdown",
      "metadata": {
        "id": "AvaIMC_5KnIZ"
      },
      "source": [
        "### **Apresentação da base**"
      ]
    },
    {
      "cell_type": "code",
      "metadata": {
        "colab": {
          "base_uri": "https://localhost:8080/",
          "height": 204
        },
        "id": "ns2wIVfqiN1g",
        "outputId": "8842d343-5de2-45f3-945a-b383621d3204"
      },
      "source": [
        "import pandas as pd\n",
        "\n",
        "consultas = pd.read_excel('https://github.com/ashouy/Aprendizado-de-Maquina/blob/main/bases/consultation_fee/train.xlsx?raw=true')\n",
        "consultas.head()"
      ],
      "execution_count": null,
      "outputs": [
        {
          "output_type": "execute_result",
          "data": {
            "text/html": [
              "<div>\n",
              "<style scoped>\n",
              "    .dataframe tbody tr th:only-of-type {\n",
              "        vertical-align: middle;\n",
              "    }\n",
              "\n",
              "    .dataframe tbody tr th {\n",
              "        vertical-align: top;\n",
              "    }\n",
              "\n",
              "    .dataframe thead th {\n",
              "        text-align: right;\n",
              "    }\n",
              "</style>\n",
              "<table border=\"1\" class=\"dataframe\">\n",
              "  <thead>\n",
              "    <tr style=\"text-align: right;\">\n",
              "      <th></th>\n",
              "      <th>Qualification</th>\n",
              "      <th>Experience</th>\n",
              "      <th>Rating</th>\n",
              "      <th>Place</th>\n",
              "      <th>Profile</th>\n",
              "      <th>Miscellaneous_Info</th>\n",
              "      <th>Fees</th>\n",
              "    </tr>\n",
              "  </thead>\n",
              "  <tbody>\n",
              "    <tr>\n",
              "      <th>0</th>\n",
              "      <td>BHMS, MD - Homeopathy</td>\n",
              "      <td>24 years experience</td>\n",
              "      <td>100%</td>\n",
              "      <td>Kakkanad, Ernakulam</td>\n",
              "      <td>Homeopath</td>\n",
              "      <td>100% 16 Feedback Kakkanad, Ernakulam</td>\n",
              "      <td>100</td>\n",
              "    </tr>\n",
              "    <tr>\n",
              "      <th>1</th>\n",
              "      <td>BAMS, MD - Ayurveda Medicine</td>\n",
              "      <td>12 years experience</td>\n",
              "      <td>98%</td>\n",
              "      <td>Whitefield, Bangalore</td>\n",
              "      <td>Ayurveda</td>\n",
              "      <td>98% 76 Feedback Whitefield, Bangalore</td>\n",
              "      <td>350</td>\n",
              "    </tr>\n",
              "    <tr>\n",
              "      <th>2</th>\n",
              "      <td>MBBS, MS - Otorhinolaryngology</td>\n",
              "      <td>9 years experience</td>\n",
              "      <td>NaN</td>\n",
              "      <td>Mathikere - BEL, Bangalore</td>\n",
              "      <td>ENT Specialist</td>\n",
              "      <td>NaN</td>\n",
              "      <td>300</td>\n",
              "    </tr>\n",
              "    <tr>\n",
              "      <th>3</th>\n",
              "      <td>BSc - Zoology, BAMS</td>\n",
              "      <td>12 years experience</td>\n",
              "      <td>NaN</td>\n",
              "      <td>Bannerghatta Road, Bangalore</td>\n",
              "      <td>Ayurveda</td>\n",
              "      <td>Bannerghatta Road, Bangalore ₹250 Available on...</td>\n",
              "      <td>250</td>\n",
              "    </tr>\n",
              "    <tr>\n",
              "      <th>4</th>\n",
              "      <td>BAMS</td>\n",
              "      <td>20 years experience</td>\n",
              "      <td>100%</td>\n",
              "      <td>Keelkattalai, Chennai</td>\n",
              "      <td>Ayurveda</td>\n",
              "      <td>100% 4 Feedback Keelkattalai, Chennai</td>\n",
              "      <td>250</td>\n",
              "    </tr>\n",
              "  </tbody>\n",
              "</table>\n",
              "</div>"
            ],
            "text/plain": [
              "                    Qualification  ... Fees\n",
              "0           BHMS, MD - Homeopathy  ...  100\n",
              "1    BAMS, MD - Ayurveda Medicine  ...  350\n",
              "2  MBBS, MS - Otorhinolaryngology  ...  300\n",
              "3             BSc - Zoology, BAMS  ...  250\n",
              "4                            BAMS  ...  250\n",
              "\n",
              "[5 rows x 7 columns]"
            ]
          },
          "metadata": {
            "tags": []
          },
          "execution_count": 3
        }
      ]
    },
    {
      "cell_type": "markdown",
      "metadata": {
        "id": "PfjDX9FuMgzC"
      },
      "source": [
        "### **Tratamento**\n"
      ]
    },
    {
      "cell_type": "markdown",
      "metadata": {
        "id": "wlM3AtEVMyD-"
      },
      "source": [
        "#### Dados faltantes"
      ]
    },
    {
      "cell_type": "code",
      "metadata": {
        "colab": {
          "base_uri": "https://localhost:8080/"
        },
        "id": "kjKGaMsWNIaU",
        "outputId": "c3d89f1a-41fc-4ead-d564-d9246cbef4d9"
      },
      "source": [
        "hasNan = consultas.isnull().sum()\n",
        "print(hasNan)"
      ],
      "execution_count": null,
      "outputs": [
        {
          "output_type": "stream",
          "text": [
            "Qualification            0\n",
            "Experience               0\n",
            "Rating                3302\n",
            "Place                   25\n",
            "Profile                  0\n",
            "Miscellaneous_Info    2620\n",
            "Fees                     0\n",
            "dtype: int64\n"
          ],
          "name": "stdout"
        }
      ]
    }
  ]
}