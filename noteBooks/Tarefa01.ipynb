{
  "nbformat": 4,
  "nbformat_minor": 0,
  "metadata": {
    "colab": {
      "name": "Tarefa01.ipynb",
      "provenance": [],
      "authorship_tag": "ABX9TyOCdaoU27u4dx7NMXlaKdxp",
      "include_colab_link": true
    },
    "kernelspec": {
      "name": "python3",
      "display_name": "Python 3"
    },
    "language_info": {
      "name": "python"
    }
  },
  "cells": [
    {
      "cell_type": "markdown",
      "metadata": {
        "id": "view-in-github",
        "colab_type": "text"
      },
      "source": [
        "<a href=\"https://colab.research.google.com/github/ashouy/Aprendizado-de-Maquina/blob/main/Tarefa01.ipynb\" target=\"_parent\"><img src=\"https://colab.research.google.com/assets/colab-badge.svg\" alt=\"Open In Colab\"/></a>"
      ]
    },
    {
      "cell_type": "markdown",
      "metadata": {
        "id": "V82068dIEAcY"
      },
      "source": [
        "# **Atividade 01**\n",
        "A atividade consiste em selecionar uma base de dados do tipo **Regressão** e outra do tipo **Classificação** e aplicar pelo menos dois dos 6 tratamentos listados abaixo:\n",
        "\n",
        "\n",
        "1.   **Visão geral do data frame**\n",
        ">*   Aleterar a visualização do dataframe, selecionando colunas específicas por exemplo.\n",
        ">*   **loc, iloc, etc**\n",
        "2.   **Dados Faltantes**\n",
        ">*   Aplicar alguma estratégia para tratar os dados faltantes de a cordo com o contexto da base de dados.\n",
        ">*   **Remoção das colunas, Remoção das linhas, Preenchimento com um valor definido, Preenchimento com a média ou moda**\n",
        "3.    **Outliers**\n",
        ">*    Tratar valor muito fora dos padrões\n",
        "4.    **Mudança de escala**\n",
        ">*     mudar alguma série de escalar para uma possível comparação\n",
        ">*    **Normalização por reescala, normalização por padronização, StandardScaler, MinMaxScale**\n",
        "5.    **Mudança de Tipo**\n",
        ">*     Mudar o tipo de dados de uma coluna\n",
        ">*    **Label Encoder**\n",
        "6.    **Redução de dimensionalidade**\n",
        ">*    **PCA**\n",
        "\n",
        "\n",
        "\n",
        "\n"
      ]
    },
    {
      "cell_type": "code",
      "metadata": {
        "id": "_zhpbOylHGde"
      },
      "source": [
        "import pandas as pd"
      ],
      "execution_count": null,
      "outputs": []
    },
    {
      "cell_type": "code",
      "metadata": {
        "id": "ct-Z9tggHdKd"
      },
      "source": [
        ""
      ],
      "execution_count": null,
      "outputs": []
    }
  ]
}